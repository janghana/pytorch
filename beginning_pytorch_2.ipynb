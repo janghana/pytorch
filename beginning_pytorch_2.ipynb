{
 "cells": [
  {
   "cell_type": "code",
   "execution_count": 1,
   "id": "16cc1a3a",
   "metadata": {},
   "outputs": [
    {
     "name": "stdout",
     "output_type": "stream",
     "text": [
      "0\n",
      "torch.Size([])\n",
      "tensor(0)\n"
     ]
    }
   ],
   "source": [
    "# 다차원 텐서 표현\n",
    "import torch\n",
    "\n",
    "# 0D Tensor\n",
    "# 하나의 숫자를 담고 있는 텐서\n",
    "# 축과 형상 없음\n",
    "t0 = torch.tensor(0)\n",
    "print(t0.ndim)\n",
    "print(t0.shape)\n",
    "print(t0)"
   ]
  },
  {
   "cell_type": "code",
   "execution_count": 4,
   "id": "e3d761e3",
   "metadata": {},
   "outputs": [
    {
     "name": "stdout",
     "output_type": "stream",
     "text": [
      "1\n",
      "torch.Size([3])\n",
      "tensor([1, 2, 3])\n"
     ]
    }
   ],
   "source": [
    "# 1D Tensor ( == vector)\n",
    "t1 = torch.tensor([1,2,3])\n",
    "print(t1.ndim)\n",
    "print(t1.shape)\n",
    "print(t1)"
   ]
  },
  {
   "cell_type": "code",
   "execution_count": 5,
   "id": "5df62000",
   "metadata": {},
   "outputs": [
    {
     "name": "stdout",
     "output_type": "stream",
     "text": [
      "2\n",
      "torch.Size([3, 3])\n",
      "tensor([[1, 2, 3],\n",
      "        [4, 5, 6],\n",
      "        [7, 8, 9]])\n"
     ]
    }
   ],
   "source": [
    "# 2D Tensor ( == matrix)\n",
    "t2 = torch.tensor([[1,2,3],[4,5,6],[7,8,9]])\n",
    "print(t2.ndim)\n",
    "print(t2.shape)\n",
    "print(t2)"
   ]
  },
  {
   "cell_type": "code",
   "execution_count": 10,
   "id": "641c1884",
   "metadata": {},
   "outputs": [
    {
     "name": "stdout",
     "output_type": "stream",
     "text": [
      "3\n",
      "torch.Size([3, 3, 3])\n",
      "tensor([[[1, 2, 3],\n",
      "         [4, 5, 6],\n",
      "         [7, 8, 9]],\n",
      "\n",
      "        [[1, 2, 3],\n",
      "         [4, 5, 6],\n",
      "         [7, 8, 9]],\n",
      "\n",
      "        [[1, 2, 3],\n",
      "         [4, 5, 6],\n",
      "         [7, 8, 9]]])\n"
     ]
    }
   ],
   "source": [
    "# 3D Tensor ( == cube)\n",
    "# 데이터가 연속된 시퀀스 데이터나 시간 축이 포함된 시계열 데이터에 해당\n",
    "# samples, timesteps, features를 가진 구조로 사용\n",
    "t3 = torch.tensor([[[1,2,3],[4,5,6],[7,8,9]],[[1,2,3],[4,5,6],[7,8,9]],[[1,2,3],[4,5,6],[7,8,9]]])\n",
    "print(t3.ndim)\n",
    "print(t3.shape)\n",
    "print(t3)"
   ]
  },
  {
   "cell_type": "code",
   "execution_count": 11,
   "id": "cf42d44d",
   "metadata": {},
   "outputs": [],
   "source": [
    "# 4D Tensor\n",
    "# 컬러 이미지 데이터가 대표적인 사례, 흑백은 3D tensor로 가능.\n",
    "# samples, heights, width, channel 을 가진 구조로 사용\n"
   ]
  },
  {
   "cell_type": "code",
   "execution_count": 12,
   "id": "91c4c7e8",
   "metadata": {},
   "outputs": [],
   "source": [
    "# 5D Tensor\n",
    "# 비디오 데이터가 대표적인 사례\n",
    "# samples, frames(ex. 초당 30개의 프레임), heights, width, channel 을 가진 구조로 사용\n"
   ]
  },
  {
   "cell_type": "code",
   "execution_count": 24,
   "id": "05fe3c33",
   "metadata": {},
   "outputs": [
    {
     "name": "stdout",
     "output_type": "stream",
     "text": [
      "tensor([[-0.7923,  0.5464]])\n",
      "tensor([[0.7923, 0.5464]])\n",
      "tensor([[-0., 1.]])\n",
      "tensor([[-1.,  0.]])\n",
      "tensor([[-0.5000,  0.5000]])\n"
     ]
    }
   ],
   "source": [
    "# 텐서의 연산\n",
    "# Operations\n",
    "\n",
    "import math\n",
    "\n",
    "a = torch.rand(1,2) * 2 - 1\n",
    "print(a)\n",
    "print(torch.abs(a))\n",
    "print(torch.ceil(a))\n",
    "print(torch.floor(a))\n",
    "print(torch.clamp(a, -0.5, 0.5)) # 최대 최소를 제한한다."
   ]
  },
  {
   "cell_type": "code",
   "execution_count": 27,
   "id": "17d5e4d2",
   "metadata": {},
   "outputs": [
    {
     "name": "stdout",
     "output_type": "stream",
     "text": [
      "tensor([[-0.7923,  0.5464]])\n",
      "tensor(-0.7923)\n",
      "tensor(0.5464)\n",
      "tensor(-0.1230)\n",
      "tensor(0.9466)\n",
      "tensor(-0.4329)\n",
      "tensor([1, 2, 3])\n"
     ]
    }
   ],
   "source": [
    "print(a)\n",
    "print(torch.min(a))\n",
    "print(torch.max(a))\n",
    "print(torch.mean(a))\n",
    "print(torch.std(a)) # 표준편차\n",
    "print(torch.prod(a)) # 곱\n",
    "print(torch.unique(torch.tensor([1,2,3,1,2,2]))) # 중복제거"
   ]
  },
  {
   "cell_type": "code",
   "execution_count": 28,
   "id": "14ddf700",
   "metadata": {},
   "outputs": [
    {
     "name": "stdout",
     "output_type": "stream",
     "text": [
      "tensor([[0.6353, 0.0157],\n",
      "        [0.3835, 0.2977]])\n",
      "torch.return_types.max(\n",
      "values=tensor([0.6353, 0.2977]),\n",
      "indices=tensor([0, 1]))\n",
      "torch.return_types.max(\n",
      "values=tensor([0.6353, 0.3835]),\n",
      "indices=tensor([0, 0]))\n"
     ]
    }
   ],
   "source": [
    "x = torch.rand(2,2)\n",
    "print(x)\n",
    "print(x.max(dim=0))\n",
    "print(x.max(dim=1))\n",
    "print(x.min(dim=0))\n",
    "print(x.min(dim=1))"
   ]
  },
  {
   "cell_type": "code",
   "execution_count": 29,
   "id": "ae2d7849",
   "metadata": {},
   "outputs": [
    {
     "name": "stdout",
     "output_type": "stream",
     "text": [
      "tensor([[0.7536, 0.9204],\n",
      "        [0.2311, 0.2216]])\n",
      "tensor([[0.1339, 0.2691],\n",
      "        [0.1463, 0.8330]])\n"
     ]
    }
   ],
   "source": [
    "x = torch.rand(2,2)\n",
    "print(x)\n",
    "y = torch.rand(2,2)\n",
    "print(y)"
   ]
  },
  {
   "cell_type": "code",
   "execution_count": 32,
   "id": "f57a0c80",
   "metadata": {},
   "outputs": [
    {
     "name": "stdout",
     "output_type": "stream",
     "text": [
      "tensor([[0.8875, 1.1895],\n",
      "        [0.3774, 1.0546]])\n",
      "tensor([[0.8875, 1.1895],\n",
      "        [0.3774, 1.0546]])\n"
     ]
    }
   ],
   "source": [
    "print(x+y)\n",
    "print(torch.add(x,y))"
   ]
  },
  {
   "cell_type": "code",
   "execution_count": 33,
   "id": "72c42310",
   "metadata": {},
   "outputs": [
    {
     "name": "stdout",
     "output_type": "stream",
     "text": [
      "tensor([[0.8875, 1.1895],\n",
      "        [0.3774, 1.0546]])\n"
     ]
    },
    {
     "name": "stderr",
     "output_type": "stream",
     "text": [
      "/var/folders/tb/y4nqb45d7y7bdblsw13wgbd00000gn/T/ipykernel_88083/7703770.py:2: UserWarning: An output with one or more elements was resized since it had shape [2, 4], which does not match the required output shape [2, 2].This behavior is deprecated, and in a future PyTorch release outputs will not be resized unless they have zero elements. You can explicitly reuse an out tensor t by resizing it, inplace, to zero elements with t.resize_(0). (Triggered internally at  /Users/distiller/project/conda/conda-bld/pytorch_1634272478997/work/aten/src/ATen/native/Resize.cpp:23.)\n",
      "  torch.add(x,y,out=result)\n"
     ]
    }
   ],
   "source": [
    "result = torch.empty(2,4)\n",
    "torch.add(x,y,out=result)\n",
    "print(result)"
   ]
  }
 ],
 "metadata": {
  "kernelspec": {
   "display_name": "Python 3 (ipykernel)",
   "language": "python",
   "name": "python3"
  },
  "language_info": {
   "codemirror_mode": {
    "name": "ipython",
    "version": 3
   },
   "file_extension": ".py",
   "mimetype": "text/x-python",
   "name": "python",
   "nbconvert_exporter": "python",
   "pygments_lexer": "ipython3",
   "version": "3.9.7"
  }
 },
 "nbformat": 4,
 "nbformat_minor": 5
}
