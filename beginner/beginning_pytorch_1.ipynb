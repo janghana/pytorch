{
 "cells": [
  {
   "cell_type": "code",
   "execution_count": 27,
   "id": "2c369270",
   "metadata": {},
   "outputs": [
    {
     "data": {
      "text/plain": [
       "'1.10.0'"
      ]
     },
     "execution_count": 27,
     "metadata": {},
     "output_type": "execute_result"
    }
   ],
   "source": [
    "# version\n",
    "import torch\n",
    "torch.__version__"
   ]
  },
  {
   "cell_type": "code",
   "execution_count": 3,
   "id": "893515c7",
   "metadata": {},
   "outputs": [
    {
     "name": "stdout",
     "output_type": "stream",
     "text": [
      "tensor([[2.9575e+02, 4.5852e-41],\n",
      "        [2.9575e+02, 4.5852e-41],\n",
      "        [2.9707e+02, 4.5852e-41],\n",
      "        [2.9707e+02, 4.5852e-41]])\n"
     ]
    }
   ],
   "source": [
    "# 초기화 되지 않은 텐서\n",
    "x = torch.empty(4,2)\n",
    "print(x)"
   ]
  },
  {
   "cell_type": "code",
   "execution_count": 5,
   "id": "2a898073",
   "metadata": {},
   "outputs": [
    {
     "name": "stdout",
     "output_type": "stream",
     "text": [
      "tensor([[0.3227, 0.4494],\n",
      "        [0.9004, 0.8716],\n",
      "        [0.0577, 0.0663],\n",
      "        [0.6075, 0.3949]])\n"
     ]
    }
   ],
   "source": [
    "# 무작위로 초기화 된 텐서\n",
    "# random 기준 초기화.\n",
    "x = torch.rand(4,2)\n",
    "print(x)"
   ]
  },
  {
   "cell_type": "code",
   "execution_count": 6,
   "id": "36f2346c",
   "metadata": {},
   "outputs": [
    {
     "name": "stdout",
     "output_type": "stream",
     "text": [
      "tensor([[0, 0],\n",
      "        [0, 0],\n",
      "        [0, 0],\n",
      "        [0, 0]])\n"
     ]
    }
   ],
   "source": [
    "# 데이터 타입이 long, 0으로 채우기\n",
    "x = torch.zeros(4, 2, dtype=torch.long)\n",
    "print(x)"
   ]
  },
  {
   "cell_type": "code",
   "execution_count": 8,
   "id": "66405ec9",
   "metadata": {},
   "outputs": [
    {
     "name": "stdout",
     "output_type": "stream",
     "text": [
      "tensor([3.0000, 2.3000])\n"
     ]
    }
   ],
   "source": [
    "# 입력 값 초기화\n",
    "x = torch.tensor([3, 2.3])\n",
    "print(x)"
   ]
  },
  {
   "cell_type": "code",
   "execution_count": 11,
   "id": "7e35723c",
   "metadata": {},
   "outputs": [
    {
     "name": "stdout",
     "output_type": "stream",
     "text": [
      "tensor([[1., 1., 1., 1.],\n",
      "        [1., 1., 1., 1.]], dtype=torch.float64)\n"
     ]
    }
   ],
   "source": [
    "# 2 x 4 for double type, all 1\n",
    "x = x.new_ones(2, 4, dtype=torch.double)\n",
    "print(x)"
   ]
  },
  {
   "cell_type": "code",
   "execution_count": 12,
   "id": "a2505abd",
   "metadata": {},
   "outputs": [
    {
     "name": "stdout",
     "output_type": "stream",
     "text": [
      "tensor([[-0.2387, -0.5292, -0.2734,  0.8276],\n",
      "        [ 0.2818,  0.6912,  1.9315,  1.4032]])\n"
     ]
    }
   ],
   "source": [
    "# x와 같지만 float type\n",
    "x = torch.randn_like(x, dtype = torch.float)\n",
    "print(x)"
   ]
  },
  {
   "cell_type": "code",
   "execution_count": 13,
   "id": "891fcdc4",
   "metadata": {},
   "outputs": [
    {
     "name": "stdout",
     "output_type": "stream",
     "text": [
      "torch.Size([2, 4])\n"
     ]
    }
   ],
   "source": [
    "# size\n",
    "print(x.size())"
   ]
  },
  {
   "cell_type": "code",
   "execution_count": 14,
   "id": "32493851",
   "metadata": {},
   "outputs": [
    {
     "name": "stdout",
     "output_type": "stream",
     "text": [
      "tensor([1., 2., 3.])\n",
      "torch.float32\n"
     ]
    }
   ],
   "source": [
    "# data type\n",
    "ft = torch.FloatTensor([1,2,3])\n",
    "print(ft)\n",
    "print(ft.dtype)"
   ]
  },
  {
   "cell_type": "code",
   "execution_count": 18,
   "id": "8e417afa",
   "metadata": {},
   "outputs": [
    {
     "name": "stdout",
     "output_type": "stream",
     "text": [
      "tensor([1, 2, 3], dtype=torch.int16)\n",
      "tensor([1, 2, 3], dtype=torch.int32)\n",
      "tensor([1, 2, 3])\n"
     ]
    }
   ],
   "source": [
    "# type casting\n",
    "print(ft.short())\n",
    "print(ft.int())\n",
    "print(ft.long())"
   ]
  },
  {
   "cell_type": "code",
   "execution_count": 19,
   "id": "1e59ee47",
   "metadata": {},
   "outputs": [
    {
     "name": "stdout",
     "output_type": "stream",
     "text": [
      "tensor([1, 2, 3], dtype=torch.int32)\n",
      "torch.int32\n"
     ]
    }
   ],
   "source": [
    "it = torch.IntTensor([1,2,3])\n",
    "print(it)\n",
    "print(it.dtype)"
   ]
  },
  {
   "cell_type": "code",
   "execution_count": 21,
   "id": "8ea1e117",
   "metadata": {},
   "outputs": [
    {
     "name": "stdout",
     "output_type": "stream",
     "text": [
      "tensor([1., 2., 3.])\n",
      "tensor([1., 2., 3.], dtype=torch.float64)\n",
      "tensor([1., 2., 3.], dtype=torch.float16)\n"
     ]
    }
   ],
   "source": [
    "print(it.float())\n",
    "print(it.double())\n",
    "print(it.half())"
   ]
  },
  {
   "cell_type": "code",
   "execution_count": 22,
   "id": "ba176717",
   "metadata": {},
   "outputs": [
    {
     "name": "stdout",
     "output_type": "stream",
     "text": [
      "tensor([0.1297])\n",
      "0.12967686355113983\n",
      "torch.float32\n"
     ]
    }
   ],
   "source": [
    "# CUDA Tensor\n",
    "x = torch.randn(1)\n",
    "print(x)\n",
    "print(x.item())\n",
    "print(x.dtype)"
   ]
  },
  {
   "cell_type": "code",
   "execution_count": 26,
   "id": "c7c41bbd",
   "metadata": {},
   "outputs": [
    {
     "name": "stdout",
     "output_type": "stream",
     "text": [
      "cpu\n",
      "tensor([1.])\n",
      "tensor([0.1297])\n",
      "tensor([0.1297])\n",
      "tensor([1.1297])\n",
      "tensor([1.1297], dtype=torch.float64)\n"
     ]
    }
   ],
   "source": [
    "# GPU run time에 연결되어 있어서 가능하다면 cuda, 아니라면 cpu.\n",
    "device = torch.device('cuda' if torch.cuda.is_available() else 'cpu')\n",
    "print(device)\n",
    "y = torch.ones_like(x, device=device)\n",
    "print(y)\n",
    "print(x.to(device))\n",
    "print(x)\n",
    "z = x + y\n",
    "print(z)\n",
    "print(z.to('cpu', torch.double))"
   ]
  }
 ],
 "metadata": {
  "kernelspec": {
   "display_name": "Python 3 (ipykernel)",
   "language": "python",
   "name": "python3"
  },
  "language_info": {
   "codemirror_mode": {
    "name": "ipython",
    "version": 3
   },
   "file_extension": ".py",
   "mimetype": "text/x-python",
   "name": "python",
   "nbconvert_exporter": "python",
   "pygments_lexer": "ipython3",
   "version": "3.9.7"
  }
 },
 "nbformat": 4,
 "nbformat_minor": 5
}
