{
 "cells": [
  {
   "cell_type": "code",
   "execution_count": 2,
   "id": "16cc1a3a",
   "metadata": {},
   "outputs": [
    {
     "name": "stdout",
     "output_type": "stream",
     "text": [
      "tensor([[0.7720, 0.1786],\n",
      "        [0.6448, 0.3492]])\n",
      "tensor([[0.1887, 0.2888],\n",
      "        [0.7373, 0.6815]])\n",
      "tensor([[0.9607, 0.4673],\n",
      "        [1.3821, 1.0307]])\n"
     ]
    }
   ],
   "source": [
    "# 다차원 텐서 표현\n",
    "import torch\n",
    "\n",
    "# in-place 방식\n",
    "# in-plce 방식으로 텐서의 값을 변경하는 연산 뒤에는 _가 붙는다.\n",
    "x = torch.rand(2,2)\n",
    "y = torch.rand(2,2)\n",
    "print(x)\n",
    "print(y)\n",
    "y.add_(x) # y에 x를 더해서 출력\n",
    "print(y)"
   ]
  },
  {
   "cell_type": "code",
   "execution_count": 6,
   "id": "22543379",
   "metadata": {},
   "outputs": [
    {
     "name": "stdout",
     "output_type": "stream",
     "text": [
      "tensor([[0.4649, 0.8672],\n",
      "        [0.1629, 0.3669]])\n",
      "tensor([[-0.7423, -1.0929],\n",
      "        [-0.2653, -0.2971]])\n",
      "tensor([[1.2072, 1.9602],\n",
      "        [0.4283, 0.6639]])\n",
      "tensor([[1.2072, 1.9602],\n",
      "        [0.4283, 0.6639]])\n",
      "tensor([[1.2072, 1.9602],\n",
      "        [0.4283, 0.6639]])\n"
     ]
    }
   ],
   "source": [
    "print(x)\n",
    "print(y)\n",
    "print(x-y)\n",
    "print(torch.sub(x,y))\n",
    "print(x.sub(y))"
   ]
  },
  {
   "cell_type": "code",
   "execution_count": 7,
   "id": "5e5867e2",
   "metadata": {},
   "outputs": [
    {
     "name": "stdout",
     "output_type": "stream",
     "text": [
      "tensor([[0.4649, 0.8672],\n",
      "        [0.1629, 0.3669]])\n",
      "tensor([[-0.7423, -1.0929],\n",
      "        [-0.2653, -0.2971]])\n",
      "tensor([[-0.3451, -0.9478],\n",
      "        [-0.0432, -0.1090]])\n",
      "tensor([[-0.3451, -0.9478],\n",
      "        [-0.0432, -0.1090]])\n",
      "tensor([[-0.3451, -0.9478],\n",
      "        [-0.0432, -0.1090]])\n"
     ]
    }
   ],
   "source": [
    "print(x)\n",
    "print(y)\n",
    "print(x*y)\n",
    "print(torch.mul(x,y))\n",
    "print(x.mul(y))"
   ]
  },
  {
   "cell_type": "code",
   "execution_count": 8,
   "id": "d85c3119",
   "metadata": {},
   "outputs": [
    {
     "name": "stdout",
     "output_type": "stream",
     "text": [
      "tensor([[0.4649, 0.8672],\n",
      "        [0.1629, 0.3669]])\n",
      "tensor([[-0.7423, -1.0929],\n",
      "        [-0.2653, -0.2971]])\n",
      "tensor([[-0.6263, -0.7935],\n",
      "        [-0.6142, -1.2350]])\n",
      "tensor([[-0.6263, -0.7935],\n",
      "        [-0.6142, -1.2350]])\n",
      "tensor([[-0.6263, -0.7935],\n",
      "        [-0.6142, -1.2350]])\n"
     ]
    }
   ],
   "source": [
    "print(x)\n",
    "print(y)\n",
    "print(x/y)\n",
    "print(torch.div(x,y))\n",
    "print(x.div(y))"
   ]
  },
  {
   "cell_type": "code",
   "execution_count": 11,
   "id": "71c74047",
   "metadata": {},
   "outputs": [
    {
     "name": "stdout",
     "output_type": "stream",
     "text": [
      "tensor([[0.4649, 0.8672],\n",
      "        [0.1629, 0.3669]])\n",
      "tensor([[-0.7423, -1.0929],\n",
      "        [-0.2653, -0.2971]])\n",
      "tensor([[-0.5752, -0.7657],\n",
      "        [-0.2183, -0.2871]])\n",
      "tensor([[-0.5752, -0.7657],\n",
      "        [-0.2183, -0.2871]])\n",
      "torch.return_types.svd(\n",
      "U=tensor([[-0.9358, -0.3524],\n",
      "        [-0.3524,  0.9358]]),\n",
      "S=tensor([1.0233, 0.0020]),\n",
      "V=tensor([[ 0.6012, -0.7991],\n",
      "        [ 0.7991,  0.6012]]))\n"
     ]
    }
   ],
   "source": [
    "# 내적\n",
    "print(x)\n",
    "print(y)\n",
    "print(torch.matmul(x,y))\n",
    "z = torch.mm(x,y) # 내적\n",
    "# svd는 3가지 tensor로 분해해서 나타냄. 기존의 행렬값 분해해서 나타내기 가능.\n",
    "print(z)\n",
    "print(torch.svd(z))\n"
   ]
  },
  {
   "cell_type": "code",
   "execution_count": 12,
   "id": "633a9961",
   "metadata": {},
   "outputs": [
    {
     "name": "stdout",
     "output_type": "stream",
     "text": [
      "tensor([[1., 2.],\n",
      "        [3., 4.]])\n",
      "tensor(1.)\n",
      "tensor(2.)\n",
      "tensor(3.)\n",
      "tensor(4.)\n",
      "tensor([1., 3.])\n",
      "tensor([2., 4.])\n",
      "tensor([1., 2.])\n",
      "tensor([3., 4.])\n"
     ]
    }
   ],
   "source": [
    "# manipulations\n",
    "\n",
    "x = torch.Tensor([[1,2],[3,4]])\n",
    "print(x)\n",
    "\n",
    "print(x[0,0])\n",
    "print(x[0,1])\n",
    "print(x[1,0])\n",
    "print(x[1,1])\n",
    "\n",
    "print(x[:,0])\n",
    "print(x[:,1])\n",
    "\n",
    "print(x[0,:])\n",
    "print(x[1,:])"
   ]
  },
  {
   "cell_type": "code",
   "execution_count": 13,
   "id": "cc70e03c",
   "metadata": {},
   "outputs": [
    {
     "name": "stdout",
     "output_type": "stream",
     "text": [
      "tensor([[ 0.4738,  1.8871, -0.0220, -0.6553,  0.4942],\n",
      "        [ 0.1336, -0.1722, -0.8480, -0.1480,  1.2454],\n",
      "        [-0.8982, -1.6948, -0.1509,  1.9012, -0.3676],\n",
      "        [-0.0230, -1.2023, -1.2979, -0.4317,  3.2047]])\n",
      "tensor([ 0.4738,  1.8871, -0.0220, -0.6553,  0.4942,  0.1336, -0.1722, -0.8480,\n",
      "        -0.1480,  1.2454, -0.8982, -1.6948, -0.1509,  1.9012, -0.3676, -0.0230,\n",
      "        -1.2023, -1.2979, -0.4317,  3.2047])\n",
      "tensor([[ 0.4738,  1.8871, -0.0220, -0.6553],\n",
      "        [ 0.4942,  0.1336, -0.1722, -0.8480],\n",
      "        [-0.1480,  1.2454, -0.8982, -1.6948],\n",
      "        [-0.1509,  1.9012, -0.3676, -0.0230],\n",
      "        [-1.2023, -1.2979, -0.4317,  3.2047]])\n"
     ]
    }
   ],
   "source": [
    "# tensor 크기나 모양을 변경\n",
    "# 변경 전과 후 텐서 안의 원소 개수가 유지 되어야 함\n",
    "# -1로 설정되면 계산을 통해 해당 크기 값 유추\n",
    "x = torch.randn(4,5)\n",
    "print(x)\n",
    "y = x.view(20)\n",
    "print(y) # 형태 없어짐\n",
    "z = y.view(5,-1)\n",
    "print(z)"
   ]
  },
  {
   "cell_type": "code",
   "execution_count": 14,
   "id": "c54d9b1c",
   "metadata": {},
   "outputs": [
    {
     "name": "stdout",
     "output_type": "stream",
     "text": [
      "tensor([0.8082])\n",
      "0.8081562519073486\n",
      "torch.float32\n"
     ]
    }
   ],
   "source": [
    "# item의 값 텐서에 값이 단 하나라도 존재하면 숫자값을 얻을 수 있음.\n",
    "x = torch.randn(1)\n",
    "print(x)\n",
    "print(x.item())\n",
    "print(x.dtype)\n",
    "\n",
    "# 스칼라 값 단 하나만 존재해야 사용 가능."
   ]
  },
  {
   "cell_type": "code",
   "execution_count": 15,
   "id": "21d0de54",
   "metadata": {},
   "outputs": [
    {
     "name": "stdout",
     "output_type": "stream",
     "text": [
      "tensor([[[0.6393, 0.1418, 0.5779],\n",
      "         [0.0330, 0.3470, 0.2207],\n",
      "         [0.4005, 0.2276, 0.9785]]])\n",
      "torch.Size([1, 3, 3])\n",
      "tensor([[0.6393, 0.1418, 0.5779],\n",
      "        [0.0330, 0.3470, 0.2207],\n",
      "        [0.4005, 0.2276, 0.9785]])\n",
      "torch.Size([3, 3])\n"
     ]
    }
   ],
   "source": [
    "# squeeze 차원을 축소\n",
    "tensor = torch.rand(1,3,3)\n",
    "print(tensor)\n",
    "print(tensor.shape)\n",
    "\n",
    "t = tensor.squeeze()\n",
    "print(t)\n",
    "print(t.shape)"
   ]
  },
  {
   "cell_type": "code",
   "execution_count": 16,
   "id": "be2afd28",
   "metadata": {},
   "outputs": [
    {
     "name": "stdout",
     "output_type": "stream",
     "text": [
      "tensor([[0.7146, 0.6247, 0.0919],\n",
      "        [0.1021, 0.7665, 0.6748],\n",
      "        [0.8453, 0.6082, 0.3046]])\n",
      "torch.Size([3, 3])\n",
      "tensor([[[0.7146, 0.6247, 0.0919],\n",
      "         [0.1021, 0.7665, 0.6748],\n",
      "         [0.8453, 0.6082, 0.3046]]])\n",
      "torch.Size([1, 3, 3])\n",
      "tensor([[[0.7146],\n",
      "         [0.6247],\n",
      "         [0.0919]],\n",
      "\n",
      "        [[0.1021],\n",
      "         [0.7665],\n",
      "         [0.6748]],\n",
      "\n",
      "        [[0.8453],\n",
      "         [0.6082],\n",
      "         [0.3046]]])\n",
      "torch.Size([3, 3, 1])\n"
     ]
    }
   ],
   "source": [
    "# unsqueeze 차원을 확장\n",
    "tensor = torch.rand(3,3)\n",
    "print(tensor)\n",
    "print(tensor.shape)\n",
    "\n",
    "# dimension 0\n",
    "t = tensor.unsqueeze(dim=0)\n",
    "print(t)\n",
    "print(t.shape)\n",
    "\n",
    "# dimension 2\n",
    "t = tensor.unsqueeze(dim=2)\n",
    "print(t)\n",
    "print(t.shape)"
   ]
  },
  {
   "cell_type": "code",
   "execution_count": 17,
   "id": "b3a3de7b",
   "metadata": {},
   "outputs": [
    {
     "name": "stdout",
     "output_type": "stream",
     "text": [
      "tensor([1., 4.])\n",
      "tensor([2., 5.])\n",
      "tensor([3., 6.])\n",
      "tensor([[1., 4.],\n",
      "        [2., 5.],\n",
      "        [3., 6.]])\n"
     ]
    }
   ],
   "source": [
    "# stack 텐서간 결합\n",
    "x = torch.FloatTensor([1,4])\n",
    "print(x)\n",
    "y = torch.FloatTensor([2,5])\n",
    "print(y)\n",
    "z = torch.FloatTensor([3,6])\n",
    "print(z)\n",
    "\n",
    "print(torch.stack([x,y,z]))"
   ]
  },
  {
   "cell_type": "code",
   "execution_count": 18,
   "id": "37e056e9",
   "metadata": {},
   "outputs": [
    {
     "name": "stdout",
     "output_type": "stream",
     "text": [
      "tensor([[[-0.6828, -0.3421,  1.9018],\n",
      "         [-0.0649, -0.5306, -0.3674],\n",
      "         [ 0.2517, -0.5516, -0.9583]]])\n",
      "tensor([[[-0.8251,  0.3713, -0.7291],\n",
      "         [ 1.8507,  2.1043, -1.1952],\n",
      "         [ 0.3730, -0.3729,  0.4351]]])\n",
      "tensor([[[-0.6828, -0.3421,  1.9018],\n",
      "         [-0.0649, -0.5306, -0.3674],\n",
      "         [ 0.2517, -0.5516, -0.9583]],\n",
      "\n",
      "        [[-0.8251,  0.3713, -0.7291],\n",
      "         [ 1.8507,  2.1043, -1.1952],\n",
      "         [ 0.3730, -0.3729,  0.4351]]])\n",
      "torch.Size([2, 3, 3])\n",
      "tensor([[[-0.6828, -0.3421,  1.9018],\n",
      "         [-0.0649, -0.5306, -0.3674],\n",
      "         [ 0.2517, -0.5516, -0.9583],\n",
      "         [-0.8251,  0.3713, -0.7291],\n",
      "         [ 1.8507,  2.1043, -1.1952],\n",
      "         [ 0.3730, -0.3729,  0.4351]]])\n",
      "torch.Size([1, 6, 3])\n",
      "tensor([[[-0.6828, -0.3421,  1.9018, -0.8251,  0.3713, -0.7291],\n",
      "         [-0.0649, -0.5306, -0.3674,  1.8507,  2.1043, -1.1952],\n",
      "         [ 0.2517, -0.5516, -0.9583,  0.3730, -0.3729,  0.4351]]])\n",
      "torch.Size([1, 3, 6])\n"
     ]
    }
   ],
   "source": [
    "# cat : concatenate 텐서를 결합하는 메소드\n",
    "# numpy의 stack와 유사하지만, 쌓을 dim이 존재해야함.\n",
    "# 해당 차원을 늘려준 후 결합\n",
    "\n",
    "a = torch.randn(1,3,3)\n",
    "print(a)\n",
    "b = torch.randn(1,3,3)\n",
    "print(b)\n",
    "\n",
    "c = torch.cat((a,b), dim = 0) # 맨 앞의 차원을 기준으로 합쳐줌.\n",
    "print(c)\n",
    "print(c.size())\n",
    "\n",
    "c = torch.cat((a,b), dim = 1) # 중간 차원을 기준으로 합쳐줌.\n",
    "print(c)\n",
    "print(c.size())\n",
    "\n",
    "c = torch.cat((a,b), dim = 2) # 뒤의 차원을 기준으로 합쳐줌.\n",
    "print(c)\n",
    "print(c.size())"
   ]
  },
  {
   "cell_type": "code",
   "execution_count": 19,
   "id": "0ced8d6b",
   "metadata": {},
   "outputs": [
    {
     "name": "stdout",
     "output_type": "stream",
     "text": [
      "tensor([[0.5086, 0.5372, 0.7053, 0.8343, 0.3773, 0.3308],\n",
      "        [0.6723, 0.6529, 0.0362, 0.7301, 0.0280, 0.4691],\n",
      "        [0.9645, 0.0334, 0.0292, 0.8087, 0.2403, 0.0069]])\n",
      "tensor([[0.5086, 0.5372],\n",
      "        [0.6723, 0.6529],\n",
      "        [0.9645, 0.0334]])\n",
      "tensor([[0.7053, 0.8343],\n",
      "        [0.0362, 0.7301],\n",
      "        [0.0292, 0.8087]])\n",
      "tensor([[0.3773, 0.3308],\n",
      "        [0.0280, 0.4691],\n",
      "        [0.2403, 0.0069]])\n"
     ]
    }
   ],
   "source": [
    "# 텐서 여러 개로 나눌 때 사용 : chunk\n",
    "tensor = torch.rand(3,6)\n",
    "print(tensor)\n",
    "\n",
    "t1, t2, t3 = torch.chunk(tensor, 3, dim=1)\n",
    "print(t1)\n",
    "print(t2)\n",
    "print(t3)"
   ]
  },
  {
   "cell_type": "code",
   "execution_count": 20,
   "id": "93109ab5",
   "metadata": {},
   "outputs": [
    {
     "name": "stdout",
     "output_type": "stream",
     "text": [
      "tensor([[0.9599, 0.2902, 0.9795, 0.4279, 0.9320, 0.3821],\n",
      "        [0.7183, 0.2301, 0.3889, 0.3876, 0.3032, 0.3379],\n",
      "        [0.7116, 0.8609, 0.6545, 0.1435, 0.2088, 0.7924]])\n",
      "tensor([[0.9599, 0.2902, 0.9795],\n",
      "        [0.7183, 0.2301, 0.3889],\n",
      "        [0.7116, 0.8609, 0.6545]])\n",
      "tensor([[0.4279, 0.9320, 0.3821],\n",
      "        [0.3876, 0.3032, 0.3379],\n",
      "        [0.1435, 0.2088, 0.7924]])\n"
     ]
    }
   ],
   "source": [
    "# split - chunk와 비슷하지만 조금 다름. 텐서의 크기는 몇인가?\n",
    "\n",
    "tensor = torch.rand(3,6)\n",
    "t1, t2 = torch.split(tensor, 3, dim=1)\n",
    "print(tensor)\n",
    "print(t1)\n",
    "print(t2)"
   ]
  },
  {
   "cell_type": "code",
   "execution_count": 21,
   "id": "70e6006f",
   "metadata": {},
   "outputs": [
    {
     "name": "stdout",
     "output_type": "stream",
     "text": [
      "tensor([1., 1., 1., 1., 1., 1., 1.])\n",
      "[1. 1. 1. 1. 1. 1. 1.]\n",
      "tensor([2., 2., 2., 2., 2., 2., 2.])\n",
      "[2. 2. 2. 2. 2. 2. 2.]\n"
     ]
    }
   ],
   "source": [
    "# torch 와 numpy 변환하는 기능\n",
    "\n",
    "a = torch.ones(7)\n",
    "print(a)\n",
    "b = a.numpy()\n",
    "print(b)\n",
    "\n",
    "# tensor가 CPU 상에 있다면 Numpy 배열은 메모리 공간을 공유하므로 하나가 변하면, 다른 하나도 변함.\n",
    "a.add_(1)\n",
    "print(a)\n",
    "print(b)"
   ]
  },
  {
   "cell_type": "code",
   "execution_count": 22,
   "id": "2a8b9d39",
   "metadata": {},
   "outputs": [
    {
     "name": "stdout",
     "output_type": "stream",
     "text": [
      "[2. 2. 2. 2. 2. 2. 2.]\n",
      "tensor([2., 2., 2., 2., 2., 2., 2.], dtype=torch.float64)\n"
     ]
    }
   ],
   "source": [
    "import numpy as np\n",
    "\n",
    "# 이 또한 CPU 공유. GPU는 공유하지 않기 때문에 해당하지 않음.\n",
    "a = np.ones(7)\n",
    "b = torch.from_numpy(a)\n",
    "np.add(a, 1, out=a)\n",
    "print(a)\n",
    "print(b)"
   ]
  }
 ],
 "metadata": {
  "kernelspec": {
   "display_name": "Python 3 (ipykernel)",
   "language": "python",
   "name": "python3"
  },
  "language_info": {
   "codemirror_mode": {
    "name": "ipython",
    "version": 3
   },
   "file_extension": ".py",
   "mimetype": "text/x-python",
   "name": "python",
   "nbconvert_exporter": "python",
   "pygments_lexer": "ipython3",
   "version": "3.9.7"
  }
 },
 "nbformat": 4,
 "nbformat_minor": 5
}
