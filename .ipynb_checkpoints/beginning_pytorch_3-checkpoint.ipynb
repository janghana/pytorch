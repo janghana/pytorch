{
 "cells": [
  {
   "cell_type": "code",
   "execution_count": 2,
   "id": "16cc1a3a",
   "metadata": {},
   "outputs": [
    {
     "name": "stdout",
     "output_type": "stream",
     "text": [
      "tensor([[0.7720, 0.1786],\n",
      "        [0.6448, 0.3492]])\n",
      "tensor([[0.1887, 0.2888],\n",
      "        [0.7373, 0.6815]])\n",
      "tensor([[0.9607, 0.4673],\n",
      "        [1.3821, 1.0307]])\n"
     ]
    }
   ],
   "source": [
    "# 다차원 텐서 표현\n",
    "import torch\n",
    "\n",
    "# in-place 방식\n",
    "# in-plce 방식으로 텐서의 값을 변경하는 연산 뒤에는 _가 붙는다.\n",
    "x = torch.rand(2,2)\n",
    "y = torch.rand(2,2)\n",
    "print(x)\n",
    "print(y)\n",
    "y.add_(x) # y에 x를 더해서 출력\n",
    "print(y)"
   ]
  },
  {
   "cell_type": "code",
   "execution_count": 6,
   "id": "421b7a3e",
   "metadata": {},
   "outputs": [
    {
     "name": "stdout",
     "output_type": "stream",
     "text": [
      "tensor([[0.4649, 0.8672],\n",
      "        [0.1629, 0.3669]])\n",
      "tensor([[-0.7423, -1.0929],\n",
      "        [-0.2653, -0.2971]])\n",
      "tensor([[1.2072, 1.9602],\n",
      "        [0.4283, 0.6639]])\n",
      "tensor([[1.2072, 1.9602],\n",
      "        [0.4283, 0.6639]])\n",
      "tensor([[1.2072, 1.9602],\n",
      "        [0.4283, 0.6639]])\n"
     ]
    }
   ],
   "source": [
    "print(x)\n",
    "print(y)\n",
    "print(x-y)\n",
    "print(torch.sub(x,y))\n",
    "print(x.sub(y))"
   ]
  },
  {
   "cell_type": "code",
   "execution_count": 7,
   "id": "6f661f96",
   "metadata": {},
   "outputs": [
    {
     "name": "stdout",
     "output_type": "stream",
     "text": [
      "tensor([[0.4649, 0.8672],\n",
      "        [0.1629, 0.3669]])\n",
      "tensor([[-0.7423, -1.0929],\n",
      "        [-0.2653, -0.2971]])\n",
      "tensor([[-0.3451, -0.9478],\n",
      "        [-0.0432, -0.1090]])\n",
      "tensor([[-0.3451, -0.9478],\n",
      "        [-0.0432, -0.1090]])\n",
      "tensor([[-0.3451, -0.9478],\n",
      "        [-0.0432, -0.1090]])\n"
     ]
    }
   ],
   "source": [
    "print(x)\n",
    "print(y)\n",
    "print(x*y)\n",
    "print(torch.mul(x,y))\n",
    "print(x.mul(y))"
   ]
  },
  {
   "cell_type": "code",
   "execution_count": 8,
   "id": "ae1e0eb8",
   "metadata": {},
   "outputs": [
    {
     "name": "stdout",
     "output_type": "stream",
     "text": [
      "tensor([[0.4649, 0.8672],\n",
      "        [0.1629, 0.3669]])\n",
      "tensor([[-0.7423, -1.0929],\n",
      "        [-0.2653, -0.2971]])\n",
      "tensor([[-0.6263, -0.7935],\n",
      "        [-0.6142, -1.2350]])\n",
      "tensor([[-0.6263, -0.7935],\n",
      "        [-0.6142, -1.2350]])\n",
      "tensor([[-0.6263, -0.7935],\n",
      "        [-0.6142, -1.2350]])\n"
     ]
    }
   ],
   "source": [
    "print(x)\n",
    "print(y)\n",
    "print(x/y)\n",
    "print(torch.div(x,y))\n",
    "print(x.div(y))"
   ]
  },
  {
   "cell_type": "code",
   "execution_count": 11,
   "id": "f79ee8f1",
   "metadata": {},
   "outputs": [
    {
     "name": "stdout",
     "output_type": "stream",
     "text": [
      "tensor([[0.4649, 0.8672],\n",
      "        [0.1629, 0.3669]])\n",
      "tensor([[-0.7423, -1.0929],\n",
      "        [-0.2653, -0.2971]])\n",
      "tensor([[-0.5752, -0.7657],\n",
      "        [-0.2183, -0.2871]])\n",
      "tensor([[-0.5752, -0.7657],\n",
      "        [-0.2183, -0.2871]])\n",
      "torch.return_types.svd(\n",
      "U=tensor([[-0.9358, -0.3524],\n",
      "        [-0.3524,  0.9358]]),\n",
      "S=tensor([1.0233, 0.0020]),\n",
      "V=tensor([[ 0.6012, -0.7991],\n",
      "        [ 0.7991,  0.6012]]))\n"
     ]
    }
   ],
   "source": [
    "# 내적\n",
    "print(x)\n",
    "print(y)\n",
    "print(torch.matmul(x,y))\n",
    "z = torch.mm(x,y) # 내적\n",
    "# svd는 3가지 tensor로 분해해서 나타냄. 기존의 행렬값 분해해서 나타내기 가능.\n",
    "print(z)\n",
    "print(torch.svd(z))\n"
   ]
  },
  {
   "cell_type": "code",
   "execution_count": 12,
   "id": "d6d9ba40",
   "metadata": {},
   "outputs": [
    {
     "name": "stdout",
     "output_type": "stream",
     "text": [
      "tensor([[1., 2.],\n",
      "        [3., 4.]])\n",
      "tensor(1.)\n",
      "tensor(2.)\n",
      "tensor(3.)\n",
      "tensor(4.)\n",
      "tensor([1., 3.])\n",
      "tensor([2., 4.])\n",
      "tensor([1., 2.])\n",
      "tensor([3., 4.])\n"
     ]
    }
   ],
   "source": [
    "# manipulations\n",
    "\n",
    "x = torch.Tensor([[1,2],[3,4]])\n",
    "print(x)\n",
    "\n",
    "print(x[0,0])\n",
    "print(x[0,1])\n",
    "print(x[1,0])\n",
    "print(x[1,1])\n",
    "\n",
    "print(x[:,0])\n",
    "print(x[:,1])\n",
    "\n",
    "print(x[0,:])\n",
    "print(x[1,:])"
   ]
  },
  {
   "cell_type": "code",
   "execution_count": null,
   "id": "c39f9c4c",
   "metadata": {},
   "outputs": [],
   "source": []
  }
 ],
 "metadata": {
  "kernelspec": {
   "display_name": "Python 3 (ipykernel)",
   "language": "python",
   "name": "python3"
  },
  "language_info": {
   "codemirror_mode": {
    "name": "ipython",
    "version": 3
   },
   "file_extension": ".py",
   "mimetype": "text/x-python",
   "name": "python",
   "nbconvert_exporter": "python",
   "pygments_lexer": "ipython3",
   "version": "3.9.7"
  }
 },
 "nbformat": 4,
 "nbformat_minor": 5
}
