{
 "cells": [
  {
   "cell_type": "code",
   "execution_count": 2,
   "id": "bb078f06",
   "metadata": {},
   "outputs": [],
   "source": [
    "# data\n",
    "# pytorch는 데이터 준비를 위해 torch.utils.data의 Dataset, DataLoader 사용 가능\n",
    "# Dataset에는 다양한 dataset 존재.\n",
    "## vistion, text, audio, etc..\n",
    "# DataLoader 와 Dataset을 통해 batch_size, train 여부, transform 등을 인자로 넣어 데이터를 어떻게 Load\n",
    "# 할 것인지 정해줄 수 있음.\n",
    "\n",
    "from torch.utils.data import Dataset, DataLoader"
   ]
  },
  {
   "cell_type": "code",
   "execution_count": 4,
   "id": "6e01bd7a",
   "metadata": {},
   "outputs": [],
   "source": [
    "# torchvision은 pytorch에서 제공하는 데이터셋들이 모여있는 package\n",
    "# transforms : 전처리 할 때 사용하는 메소드\n",
    "# transforms에서 제공하는 클래스 이외는 일반적으로 클래스를 따로 만들어 전처리 단계를 진행\n",
    "\n",
    "import torchvision.transforms as transforms\n",
    "from torchvision import datasets"
   ]
  },
  {
   "cell_type": "code",
   "execution_count": 6,
   "id": "b57177be",
   "metadata": {},
   "outputs": [],
   "source": [
    "# DataLoader의 인자로 들어갈 transform을 미리 정의할 수 있고, Compose를 통해 리스트 안에 순서대로 전처리 진행\n",
    "# ToTensor()를 하는 이유는 torchvision이 PIL Image 형태로만 입력을 받기 때문에\n",
    "# 데이터 처리를 위해서 Tensor형으로 변환 필요.\n",
    "\n",
    "mnist_transform = transforms.Compose([transforms.ToTensor(),\n",
    "                                     transforms.Normalize(mean=(0.5,), std=(1.0,))])\n",
    "# mnist dataset에 대해서 transform 해주는 과정을 위와 같이 미리 정의 가능하다."
   ]
  },
  {
   "cell_type": "code",
   "execution_count": null,
   "id": "1e012a58",
   "metadata": {},
   "outputs": [],
   "source": [
    "# DataLoader는 데이터 전체를 보관했다가 실제 모델 학습할 때, batch_size 크기만큼 데이터를 가져온다.\n",
    "\n",
    "# root는 어디에 저장할지. train은 True, False이면 test set, download = True 다운 가능.\n",
    "# transform은 만들어 둔 것 사용.\n",
    "trainset = datasets.MNIST(root='/content/',\n",
    "                         train=True, download = True,\n",
    "                         transform=mnist_transform)\n",
    "\n",
    "\n",
    "testset = datasets.MNIST(root='/content/',\n",
    "                         train=False, download = True,\n",
    "                         transform=mnist_transform)"
   ]
  }
 ],
 "metadata": {
  "kernelspec": {
   "display_name": "Python 3 (ipykernel)",
   "language": "python",
   "name": "python3"
  },
  "language_info": {
   "codemirror_mode": {
    "name": "ipython",
    "version": 3
   },
   "file_extension": ".py",
   "mimetype": "text/x-python",
   "name": "python",
   "nbconvert_exporter": "python",
   "pygments_lexer": "ipython3",
   "version": "3.9.7"
  }
 },
 "nbformat": 4,
 "nbformat_minor": 5
}
