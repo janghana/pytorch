{
  "cells": [
    {
      "cell_type": "markdown",
      "source": [
        "# 신경망구성\n",
        "\n",
        "- layer : 신경망의 핵심 데이터 구조로 하나 이상의 텐서를 입력 받아 하나 이상의 텐서를 출력\n",
        "- module : 한 개 이상의 계층이 모여서 구성\n",
        "- model : 한 개 이상의 모듈이 모여서 구성"
      ],
      "metadata": {
        "id": "DVH5HZQOXxIp"
      },
      "id": "DVH5HZQOXxIp"
    },
    {
      "cell_type": "code",
      "source": [
        "# torch.nn package\n",
        "# 주로 가중치, 편향 값들이 내부에서 자동으로 생성되는 레이어들을 사용할 때 사용.\n",
        "\n",
        "import torch.nn as nn"
      ],
      "metadata": {
        "id": "m-99Dr8TXzVs"
      },
      "id": "m-99Dr8TXzVs",
      "execution_count": 1,
      "outputs": []
    },
    {
      "cell_type": "code",
      "source": [
        "# nn.Linear\n",
        "import torch\n",
        "input = torch.rand(128, 20) # feature 수는 20개\n",
        "print(input)\n",
        "\n",
        "# 여기도 input 개수 20개. output 개수 30개\n",
        "m = nn.Linear(20,30)\n",
        "print(m)\n",
        "\n",
        "output = m(input)\n",
        "print(output)\n",
        "print(output.size())"
      ],
      "metadata": {
        "colab": {
          "base_uri": "https://localhost:8080/"
        },
        "id": "7UnhF5CLahQ5",
        "outputId": "c08c242c-8ae1-45f2-9e75-86af11f71b06"
      },
      "id": "7UnhF5CLahQ5",
      "execution_count": 6,
      "outputs": [
        {
          "output_type": "stream",
          "name": "stdout",
          "text": [
            "tensor([[0.2016, 0.6769, 0.7252,  ..., 0.7606, 0.1467, 0.9992],\n",
            "        [0.7224, 0.8637, 0.9042,  ..., 0.8792, 0.0336, 0.7753],\n",
            "        [0.1594, 0.6128, 0.2607,  ..., 0.0388, 0.3601, 0.8376],\n",
            "        ...,\n",
            "        [0.0469, 0.0461, 0.1009,  ..., 0.5067, 0.7658, 0.7749],\n",
            "        [0.4512, 0.1119, 0.3938,  ..., 0.7400, 0.3659, 0.8746],\n",
            "        [0.2684, 0.1405, 0.3457,  ..., 0.7683, 0.2011, 0.5702]])\n",
            "Linear(in_features=20, out_features=30, bias=True)\n",
            "tensor([[-0.1895,  0.8258, -0.1270,  ...,  0.3022,  0.1622,  0.3376],\n",
            "        [-0.1755,  1.0050, -0.2386,  ...,  0.5294,  0.3561, -0.0280],\n",
            "        [-0.3438,  0.5907, -0.1918,  ...,  0.4968,  0.3639,  0.0985],\n",
            "        ...,\n",
            "        [-0.4709,  0.4799, -0.0837,  ...,  0.6211,  0.3776,  0.3343],\n",
            "        [-0.3355,  0.5649, -0.2858,  ...,  0.4373,  0.2706,  0.2078],\n",
            "        [-0.3010,  0.6535, -0.0968,  ...,  0.2381,  0.5156,  0.2695]],\n",
            "       grad_fn=<AddmmBackward0>)\n",
            "torch.Size([128, 30])\n"
          ]
        }
      ]
    },
    {
      "cell_type": "code",
      "source": [
        "input = torch.randn(20,16,50,100)\n",
        "print(input.size())"
      ],
      "metadata": {
        "colab": {
          "base_uri": "https://localhost:8080/"
        },
        "id": "5szFxxPKasA8",
        "outputId": "b83fe5ab-cbcf-41f3-918a-1861e2a6ca8f"
      },
      "id": "5szFxxPKasA8",
      "execution_count": 7,
      "outputs": [
        {
          "output_type": "stream",
          "name": "stdout",
          "text": [
            "torch.Size([20, 16, 50, 100])\n"
          ]
        }
      ]
    },
    {
      "cell_type": "code",
      "source": [
        "m = nn.Conv2d(16,33,3,stride=2)\n",
        "m = nn.Conv2d(16,33,(3,5),stride=(2,1), padding=(4,2))\n",
        "m = nn.Conv2d(16,33,(3,5),stride=(2,1), padding=(4,2), dilation=(3,1))\n",
        "print(m)"
      ],
      "metadata": {
        "colab": {
          "base_uri": "https://localhost:8080/"
        },
        "id": "gKySgyFBa8bS",
        "outputId": "d8a10284-029a-4669-d3ae-9dbf2630d3ac"
      },
      "id": "gKySgyFBa8bS",
      "execution_count": 12,
      "outputs": [
        {
          "output_type": "stream",
          "name": "stdout",
          "text": [
            "Conv2d(16, 33, kernel_size=(3, 5), stride=(2, 1), padding=(4, 2), dilation=(3, 1))\n"
          ]
        }
      ]
    },
    {
      "cell_type": "code",
      "source": [
        "output = m(input)\n",
        "print(output.size())"
      ],
      "metadata": {
        "colab": {
          "base_uri": "https://localhost:8080/"
        },
        "id": "vAoCqc1ebkfD",
        "outputId": "bbc56ad7-0f06-4264-dddf-03079f1e396e"
      },
      "id": "vAoCqc1ebkfD",
      "execution_count": 15,
      "outputs": [
        {
          "output_type": "stream",
          "name": "stdout",
          "text": [
            "torch.Size([20, 33, 26, 100])\n"
          ]
        }
      ]
    },
    {
      "cell_type": "markdown",
      "source": [
        "# Convolution Layers\n",
        "\n",
        "- in_channels : channel의 개수\n",
        "- out_channels : 출력 channel의 개수\n",
        "- kernel_size : 커널(필터) 사이즈"
      ],
      "metadata": {
        "id": "VFpt8V8PcxYe"
      },
      "id": "VFpt8V8PcxYe"
    },
    {
      "cell_type": "code",
      "source": [
        "nn.Conv2d(in_channels=1, out_channels=20, kernel_size=5, stride=1)"
      ],
      "metadata": {
        "colab": {
          "base_uri": "https://localhost:8080/"
        },
        "id": "_fgX-g86c-E1",
        "outputId": "17b67cab-7ee4-4351-db31-ae9b19b6f964"
      },
      "id": "_fgX-g86c-E1",
      "execution_count": 16,
      "outputs": [
        {
          "output_type": "execute_result",
          "data": {
            "text/plain": [
              "Conv2d(1, 20, kernel_size=(5, 5), stride=(1, 1))"
            ]
          },
          "metadata": {},
          "execution_count": 16
        }
      ]
    },
    {
      "cell_type": "code",
      "source": [
        "layer = nn.Conv2d(1,20,5,1).to(torch.device('cpu')) # Conv layer 층을 cpu로 전송.\n",
        "layer"
      ],
      "metadata": {
        "colab": {
          "base_uri": "https://localhost:8080/"
        },
        "id": "GvGosvkjdGeB",
        "outputId": "c0f593e5-5ef3-4e15-c698-1d8eff2160c4"
      },
      "id": "GvGosvkjdGeB",
      "execution_count": 20,
      "outputs": [
        {
          "output_type": "execute_result",
          "data": {
            "text/plain": [
              "Conv2d(1, 20, kernel_size=(5, 5), stride=(1, 1))"
            ]
          },
          "metadata": {},
          "execution_count": 20
        }
      ]
    },
    {
      "cell_type": "code",
      "source": [
        "# weight 확인\n",
        "weight = layer.weight\n",
        "weight.shape"
      ],
      "metadata": {
        "colab": {
          "base_uri": "https://localhost:8080/"
        },
        "id": "XyQAbpzedNUM",
        "outputId": "aa5f0c34-9887-46c7-8213-f90f63a21788"
      },
      "id": "XyQAbpzedNUM",
      "execution_count": 33,
      "outputs": [
        {
          "output_type": "execute_result",
          "data": {
            "text/plain": [
              "torch.Size([20, 1, 5, 5])"
            ]
          },
          "metadata": {},
          "execution_count": 33
        }
      ]
    },
    {
      "cell_type": "code",
      "source": [
        "# weight는 detach()를 통해 꺼내줘야 numpy() 변환 가능\n",
        "import numpy as np\n",
        "weight = weight.detach()"
      ],
      "metadata": {
        "id": "ZzH_BdXNdd2K"
      },
      "id": "ZzH_BdXNdd2K",
      "execution_count": 34,
      "outputs": []
    },
    {
      "cell_type": "code",
      "source": [
        "weight = weight.numpy()\n",
        "weight.shape"
      ],
      "metadata": {
        "colab": {
          "base_uri": "https://localhost:8080/"
        },
        "id": "Dko_7VH6doxk",
        "outputId": "0ea35068-6a9d-4eff-d0f5-f31efe322687"
      },
      "id": "Dko_7VH6doxk",
      "execution_count": 35,
      "outputs": [
        {
          "output_type": "execute_result",
          "data": {
            "text/plain": [
              "(20, 1, 5, 5)"
            ]
          },
          "metadata": {},
          "execution_count": 35
        }
      ]
    },
    {
      "cell_type": "code",
      "source": [
        "import matplotlib.pyplot as plt\n",
        "plt.imshow(weight[0,0,:,:],'gray')\n",
        "plt.colorbar()\n",
        "plt.show()"
      ],
      "metadata": {
        "colab": {
          "base_uri": "https://localhost:8080/",
          "height": 265
        },
        "id": "1pjrz-YNdtd7",
        "outputId": "1d03baba-7887-4dd4-e645-8cb775993960"
      },
      "id": "1pjrz-YNdtd7",
      "execution_count": 39,
      "outputs": [
        {
          "output_type": "display_data",
          "data": {
            "text/plain": [
              "<Figure size 432x288 with 2 Axes>"
            ],
            "image/png": "[encoded data removed]"
          },
          "metadata": {
            "needs_background": "light"
          }
        }
      ]
    },
    {
      "cell_type": "code",
      "source": [],
      "metadata": {
        "id": "o0i19d--fLgL"
      },
      "id": "o0i19d--fLgL",
      "execution_count": null,
      "outputs": []
    },
    {
      "cell_type": "code",
      "source": [],
      "metadata": {
        "id": "-NW3kGlQgYyB"
      },
      "id": "-NW3kGlQgYyB",
      "execution_count": null,
      "outputs": []
    }
  ],
  "metadata": {
    "kernelspec": {
      "display_name": "Python 3 (ipykernel)",
      "language": "python",
      "name": "python3"
    },
    "language_info": {
      "codemirror_mode": {
        "name": "ipython",
        "version": 3
      },
      "file_extension": ".py",
      "mimetype": "text/x-python",
      "name": "python",
      "nbconvert_exporter": "python",
      "pygments_lexer": "ipython3",
      "version": "3.9.7"
    },
    "colab": {
      "provenance": []
    }
  },
  "nbformat": 4,
  "nbformat_minor": 5
}