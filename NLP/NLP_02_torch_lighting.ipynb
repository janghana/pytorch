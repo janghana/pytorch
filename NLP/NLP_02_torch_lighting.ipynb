{
  "nbformat": 4,
  "nbformat_minor": 0,
  "metadata": {
    "colab": {
      "provenance": []
    },
    "kernelspec": {
      "name": "python3",
      "display_name": "Python 3"
    },
    "language_info": {
      "name": "python"
    },
    "accelerator": "GPU",
    "gpuClass": "standard"
  },
  "cells": [
    {
      "cell_type": "markdown",
      "source": [
        "# Tensor"
      ],
      "metadata": {
        "id": "ORxyr0hXqzuS"
      }
    },
    {
      "cell_type": "markdown",
      "source": [
        "## Tensor Creation"
      ],
      "metadata": {
        "id": "50kTAFGorTdj"
      }
    },
    {
      "cell_type": "code",
      "source": [
        "import torch\n",
        "# float variable to tensor object\n",
        "x = 34.0 # float value , CPU level의 type\n",
        "print( type(x) )\n",
        "y = torch.tensor(x) # python object to pytorch object\n",
        "print( type(y) )\n",
        "y"
      ],
      "metadata": {
        "colab": {
          "base_uri": "https://localhost:8080/"
        },
        "id": "rjyEQIdbrXGv",
        "outputId": "83cac4c2-decb-4ecf-c332-efaffb8e8b66"
      },
      "execution_count": 2,
      "outputs": [
        {
          "output_type": "stream",
          "name": "stdout",
          "text": [
            "<class 'float'>\n",
            "<class 'torch.Tensor'>\n"
          ]
        },
        {
          "output_type": "execute_result",
          "data": {
            "text/plain": [
              "tensor(34.)"
            ]
          },
          "metadata": {},
          "execution_count": 2
        }
      ]
    },
    {
      "cell_type": "code",
      "source": [
        "# directly create tensor\n",
        "y = torch.tensor(34.0) # 자동으로 float 인식\n",
        "print( type(y) )\n",
        "y"
      ],
      "metadata": {
        "colab": {
          "base_uri": "https://localhost:8080/"
        },
        "id": "b5QfCT0frYhx",
        "outputId": "db8b2d82-80e2-4727-a4f3-dc2f7cf92d33"
      },
      "execution_count": 3,
      "outputs": [
        {
          "output_type": "stream",
          "name": "stdout",
          "text": [
            "<class 'torch.Tensor'>\n"
          ]
        },
        {
          "output_type": "execute_result",
          "data": {
            "text/plain": [
              "tensor(34.)"
            ]
          },
          "metadata": {},
          "execution_count": 3
        }
      ]
    },
    {
      "cell_type": "code",
      "source": [
        "# list -> tensor\n",
        "x = [1,2,3,4]\n",
        "y = torch.tensor(x)\n",
        "print( type(x) )\n",
        "print( type(y) )\n",
        "y"
      ],
      "metadata": {
        "colab": {
          "base_uri": "https://localhost:8080/"
        },
        "id": "DmgUsHNJu18g",
        "outputId": "dc7a5f35-b399-4d29-97f2-199ad7a0385c"
      },
      "execution_count": 4,
      "outputs": [
        {
          "output_type": "stream",
          "name": "stdout",
          "text": [
            "<class 'list'>\n",
            "<class 'torch.Tensor'>\n"
          ]
        },
        {
          "output_type": "execute_result",
          "data": {
            "text/plain": [
              "tensor([1, 2, 3, 4])"
            ]
          },
          "metadata": {},
          "execution_count": 4
        }
      ]
    },
    {
      "cell_type": "code",
      "source": [
        "# list of list -> tensor\n",
        "x = [ [1,2,3,4],\n",
        "      [5,6,7,8]\n",
        "    ] # 2 dimensional array\n",
        "print( torch.tensor(x) )\n",
        "print( torch.tensor(x).shape )\n",
        "print( torch.tensor(x).size() )"
      ],
      "metadata": {
        "colab": {
          "base_uri": "https://localhost:8080/"
        },
        "id": "I1o9dlTAu-p6",
        "outputId": "eaee66eb-41a8-4713-af3e-608b008e8470"
      },
      "execution_count": 5,
      "outputs": [
        {
          "output_type": "stream",
          "name": "stdout",
          "text": [
            "tensor([[1, 2, 3, 4],\n",
            "        [5, 6, 7, 8]])\n",
            "torch.Size([2, 4])\n",
            "torch.Size([2, 4])\n"
          ]
        }
      ]
    },
    {
      "cell_type": "markdown",
      "source": [
        "# Numpy object to Tensor"
      ],
      "metadata": {
        "id": "lx1va7SxvdCj"
      }
    },
    {
      "cell_type": "code",
      "source": [
        "import numpy as np\n",
        "\n",
        "a = 34.3\n",
        "b = torch.tensor(a)\n",
        "print(b)\n",
        "print(b.dtype)\n",
        "\n",
        "x = np.array( 34.3 )\n",
        "print(type(x))\n",
        "print(x.dtype)\n",
        "y = torch.tensor(x)\n",
        "y\n",
        "\n",
        "# numpy로 데이터를 만들면, 데이터의 타입이 결정되며, numpy를 torch.tensor 형태로 넘겨서 torch.tensor 형태의 object도 numpy의 것으로 자동으로 결정이 됨."
      ],
      "metadata": {
        "colab": {
          "base_uri": "https://localhost:8080/"
        },
        "id": "6b6sFipbvMfT",
        "outputId": "e1520dc4-032a-4055-fdbf-4eb2d4bb60e6"
      },
      "execution_count": 6,
      "outputs": [
        {
          "output_type": "stream",
          "name": "stdout",
          "text": [
            "tensor(34.3000)\n",
            "torch.float32\n",
            "<class 'numpy.ndarray'>\n",
            "float64\n"
          ]
        },
        {
          "output_type": "execute_result",
          "data": {
            "text/plain": [
              "tensor(34.3000, dtype=torch.float64)"
            ]
          },
          "metadata": {},
          "execution_count": 6
        }
      ]
    },
    {
      "cell_type": "code",
      "source": [
        "x = np.array( [\n",
        "                [1,2,3,4],\n",
        "                [5,6,7,8]\n",
        "                          ]) # 2 dimensional array\n",
        "print(x.shape)\n",
        "print( torch.tensor(x) )\n",
        "print( torch.tensor(x).shape )\n",
        "# numpy가 integer type으로 추측을 하여 아래와 같이 출력에도 나오는 것을 확인할 수 있다."
      ],
      "metadata": {
        "colab": {
          "base_uri": "https://localhost:8080/"
        },
        "id": "fLs2pf_ywsK0",
        "outputId": "609fe931-0788-443b-96ff-e92aaf9a22ad"
      },
      "execution_count": 7,
      "outputs": [
        {
          "output_type": "stream",
          "name": "stdout",
          "text": [
            "(2, 4)\n",
            "tensor([[1, 2, 3, 4],\n",
            "        [5, 6, 7, 8]])\n",
            "torch.Size([2, 4])\n"
          ]
        }
      ]
    },
    {
      "cell_type": "code",
      "source": [
        "x = np.array([ [\n",
        "                  [\n",
        "                    [1,2,3,4],\n",
        "                    [5,6,7,8]\n",
        "                  ]\n",
        "                ]\n",
        "              ]\n",
        "             )\n",
        "print( torch.tensor(x) )\n",
        "print( torch.tensor(x).shape )\n"
      ],
      "metadata": {
        "colab": {
          "base_uri": "https://localhost:8080/"
        },
        "id": "AIooovLrxptK",
        "outputId": "c325fb9f-4542-4894-910f-cdfad36830d9"
      },
      "execution_count": 8,
      "outputs": [
        {
          "output_type": "stream",
          "name": "stdout",
          "text": [
            "tensor([[[[1, 2, 3, 4],\n",
            "          [5, 6, 7, 8]]]])\n",
            "torch.Size([1, 1, 2, 4])\n"
          ]
        }
      ]
    },
    {
      "cell_type": "markdown",
      "source": [
        "# Tensor daya type\n",
        "\n",
        "- 거의 모두 지원\n",
        "- tensor.dtype"
      ],
      "metadata": {
        "id": "Aqz4iiMizs_B"
      }
    },
    {
      "cell_type": "code",
      "source": [
        "# by creation\n",
        "x = torch.tensor( [1,2,3,4], dtype=torch.float)\n",
        "print( x )\n",
        "print( x.dtype)\n",
        "\n",
        "# integer 임에도 float으로 정의"
      ],
      "metadata": {
        "colab": {
          "base_uri": "https://localhost:8080/"
        },
        "id": "f1peMYsFzfb3",
        "outputId": "b7cfc906-5152-45b6-cd76-270aba4329d7"
      },
      "execution_count": 9,
      "outputs": [
        {
          "output_type": "stream",
          "name": "stdout",
          "text": [
            "tensor([1., 2., 3., 4.])\n",
            "torch.float32\n"
          ]
        }
      ]
    },
    {
      "cell_type": "code",
      "source": [
        "# by creation\n",
        "x = torch.tensor( [1,2,3,4], dtype=torch.float16)\n",
        "print( x )\n",
        "print( x.dtype)"
      ],
      "metadata": {
        "colab": {
          "base_uri": "https://localhost:8080/"
        },
        "id": "vOoiUcRX0L6m",
        "outputId": "1e2d2d55-cd48-4c1a-88a9-62bc35e5a8a9"
      },
      "execution_count": 10,
      "outputs": [
        {
          "output_type": "stream",
          "name": "stdout",
          "text": [
            "tensor([1., 2., 3., 4.], dtype=torch.float16)\n",
            "torch.float16\n"
          ]
        }
      ]
    },
    {
      "cell_type": "code",
      "source": [
        "# by explicit conversion by .to()\n",
        "\n",
        "x = torch.tensor( [1,2,3,4], dtype=torch.float)\n",
        "print( x )\n",
        "print( x.dtype )\n",
        "y = x.to(torch.int) # .to() is quite useful function in many cases. it is not for only type conversion but also other things.\n",
        "print( y )\n",
        "print( y.dtype )"
      ],
      "metadata": {
        "colab": {
          "base_uri": "https://localhost:8080/"
        },
        "id": "du39r5hr0yFt",
        "outputId": "bf70a4f8-e2c2-490e-cbbb-6838afcb6061"
      },
      "execution_count": 11,
      "outputs": [
        {
          "output_type": "stream",
          "name": "stdout",
          "text": [
            "tensor([1., 2., 3., 4.])\n",
            "torch.float32\n",
            "tensor([1, 2, 3, 4], dtype=torch.int32)\n",
            "torch.int32\n"
          ]
        }
      ]
    },
    {
      "cell_type": "code",
      "source": [
        "# by explicit conversion by .to()\n",
        "\n",
        "x = torch.tensor( [1,2,3,4], dtype=torch.float)\n",
        "print( x )\n",
        "print( x.dtype )\n",
        "y = x.type(torch.int)\n",
        "print( y )\n",
        "print( y.dtype )"
      ],
      "metadata": {
        "colab": {
          "base_uri": "https://localhost:8080/"
        },
        "id": "4YlMsvQo03vM",
        "outputId": "618a4dd0-5de9-4534-fec0-12c08822758e"
      },
      "execution_count": 12,
      "outputs": [
        {
          "output_type": "stream",
          "name": "stdout",
          "text": [
            "tensor([1., 2., 3., 4.])\n",
            "torch.float32\n",
            "tensor([1, 2, 3, 4], dtype=torch.int32)\n",
            "torch.int32\n"
          ]
        }
      ]
    },
    {
      "cell_type": "code",
      "source": [
        "# you can even specify the type with \"string\" not object\n",
        "x = torch.tensor( [1,2,3,4], dtype=torch.float)\n",
        "print( x )\n",
        "print( x.dtype )\n",
        "OUR_TYPE = \"torch.ShortTensor\"\n",
        "y = x.type(OUR_TYPE) # <- string !!\n",
        "print( y )\n",
        "print( y.dtype )"
      ],
      "metadata": {
        "colab": {
          "base_uri": "https://localhost:8080/"
        },
        "id": "VRRCDDpP2RdL",
        "outputId": "49ce5057-402a-48f0-c525-dafb859a9a12"
      },
      "execution_count": 13,
      "outputs": [
        {
          "output_type": "stream",
          "name": "stdout",
          "text": [
            "tensor([1., 2., 3., 4.])\n",
            "torch.float32\n",
            "tensor([1, 2, 3, 4], dtype=torch.int16)\n",
            "torch.int16\n"
          ]
        }
      ]
    },
    {
      "cell_type": "markdown",
      "source": [
        "# Tensor Shape\n",
        "\n",
        "- Tensor is a n-dimensional array. Therefore, check and set the shape of tensor are fundamental and cruical operations for handing tensor.\n",
        "- Shape operation might be your best and useful tool for deep learning.\n",
        "\n",
        "* In here, we will check elementary shape operations.\n",
        "* Some of the advanced topics will be convered in the later of this lecture.\n",
        "    - Check shape\n",
        "    - Reshape"
      ],
      "metadata": {
        "id": "Ee6Kn-Lc3oIP"
      }
    },
    {
      "cell_type": "code",
      "source": [
        "# check shape\n",
        "x = torch.tensor([\n",
        "                        [1,2,3],\n",
        "                        [4,5,6]\n",
        "                ])\n",
        "print(x)\n",
        "print(x.shape)"
      ],
      "metadata": {
        "colab": {
          "base_uri": "https://localhost:8080/"
        },
        "id": "jeLglPS42jDQ",
        "outputId": "14928c8e-ee9b-4c70-e9b0-43a7349a1055"
      },
      "execution_count": 14,
      "outputs": [
        {
          "output_type": "stream",
          "name": "stdout",
          "text": [
            "tensor([[1, 2, 3],\n",
            "        [4, 5, 6]])\n",
            "torch.Size([2, 3])\n"
          ]
        }
      ]
    },
    {
      "cell_type": "code",
      "source": [
        "# you can also get values of each dimension\n",
        "\n",
        "batch_size, dim_1 = x.shape\n",
        "print( \"batch size : \", batch_size)\n",
        "print( \"1st dimension : \", dim_1)\n",
        "\n",
        "print(x.size()) # tensor로 출력도 가능."
      ],
      "metadata": {
        "colab": {
          "base_uri": "https://localhost:8080/"
        },
        "id": "9h6fCU1H8nhI",
        "outputId": "f1a1658d-3b63-4f2b-92a5-4f2bb3450e65"
      },
      "execution_count": 15,
      "outputs": [
        {
          "output_type": "stream",
          "name": "stdout",
          "text": [
            "batch size :  2\n",
            "1st dimension :  3\n",
            "torch.Size([2, 3])\n"
          ]
        }
      ]
    },
    {
      "cell_type": "code",
      "source": [
        "# by \"RESHAPE\", you can change tensor shape whatever you want.\n",
        "\n",
        "print(\"Original : \", x.shape)\n",
        "print(\"Reshaped : \", x.reshape([3,2]).shape) # <-- check the result\n",
        "print(\"Reshaped : \", x.reshape([1,6]).shape) # <-- check the result\n",
        "print(\"Reshaped : \", x.reshape([6,1]).shape) # <-- check the result\n",
        "\n",
        "print(x)\n",
        "print(\"-----\")\n",
        "print(x.reshape([6]))\n",
        "\n",
        "# data의 전체 개수가 같다면 shape 바꾸기 가능."
      ],
      "metadata": {
        "id": "dB8vidM69DYR",
        "colab": {
          "base_uri": "https://localhost:8080/"
        },
        "outputId": "6d3ead40-cfa4-4d88-d515-579c5a29fb6a"
      },
      "execution_count": 16,
      "outputs": [
        {
          "output_type": "stream",
          "name": "stdout",
          "text": [
            "Original :  torch.Size([2, 3])\n",
            "Reshaped :  torch.Size([3, 2])\n",
            "Reshaped :  torch.Size([1, 6])\n",
            "Reshaped :  torch.Size([6, 1])\n",
            "tensor([[1, 2, 3],\n",
            "        [4, 5, 6]])\n",
            "-----\n",
            "tensor([1, 2, 3, 4, 5, 6])\n"
          ]
        }
      ]
    },
    {
      "cell_type": "code",
      "source": [
        "# but reshape is only allowed when the total size is same.\n",
        "print(\"Original : \", x.shape)\n",
        "print(\"Reshaped L \", x.reshape([6,1]).shape)"
      ],
      "metadata": {
        "colab": {
          "base_uri": "https://localhost:8080/"
        },
        "id": "8SHei7wNO0r2",
        "outputId": "6f9fca6d-2520-4335-fe1c-1b568a98626c"
      },
      "execution_count": 17,
      "outputs": [
        {
          "output_type": "stream",
          "name": "stdout",
          "text": [
            "Original :  torch.Size([2, 3])\n",
            "Reshaped L  torch.Size([6, 1])\n"
          ]
        }
      ]
    },
    {
      "cell_type": "markdown",
      "source": [
        "## (ADVANCED) reshape and view\n",
        "\n",
        "Pytorch support 'view' function for shaping operation.\n",
        "\n",
        "The functionality is almost same as reshape, but the memory usage is different."
      ],
      "metadata": {
        "id": "rIOBm9WRQehx"
      }
    },
    {
      "cell_type": "code",
      "source": [
        "# data 자체의 memory 구조를 바꿔주는 것이 아닌, data를 access할 때의 shape를 바꿔준다.\n",
        "\n",
        "x = torch.randn(4, 4)\n",
        "print(\"x :\", x.size())\n",
        "y = x.view(16)\n",
        "print('y :', y.size())\n",
        "z = x.view(-1,8) # the size -1 is inferred from other dimensions // 알아서 추측한다.\n",
        "print(\"z :\", z.size())"
      ],
      "metadata": {
        "colab": {
          "base_uri": "https://localhost:8080/"
        },
        "id": "MWiyO7MAQRTB",
        "outputId": "0283f6ea-6b08-434a-9734-302bb42613a0"
      },
      "execution_count": 18,
      "outputs": [
        {
          "output_type": "stream",
          "name": "stdout",
          "text": [
            "x : torch.Size([4, 4])\n",
            "y : torch.Size([16])\n",
            "z : torch.Size([2, 8])\n"
          ]
        }
      ]
    },
    {
      "cell_type": "markdown",
      "source": [
        "View is a just mirror if data with another shape.\n",
        "\n",
        "So, it does not change data is self."
      ],
      "metadata": {
        "id": "0ubnLRw9Ssn0"
      }
    },
    {
      "cell_type": "code",
      "source": [
        "a = torch.tensor( [\n",
        "    \n",
        "                        [\n",
        "                            [1, 2, 3, 4],\n",
        "                            [5, 6, 7, 8]\n",
        "                        ],\n",
        "                        [\n",
        "                            [11, 12, 13, 14],\n",
        "                            [15, 16, 17, 18]\n",
        "                        ],\n",
        "                        [\n",
        "                            [21, 22, 23, 24],\n",
        "                            [25, 26, 27, 28]\n",
        "                        ]\n",
        "])\n",
        "print(a)\n",
        "print(\"a : \", a.size())\n",
        "b = a.view(3,4,2) # change shape\n",
        "print(b)"
      ],
      "metadata": {
        "colab": {
          "base_uri": "https://localhost:8080/"
        },
        "id": "qER9A1_YRtIB",
        "outputId": "c8a41d8e-d7c6-42fb-e653-79712f20fda2"
      },
      "execution_count": 19,
      "outputs": [
        {
          "output_type": "stream",
          "name": "stdout",
          "text": [
            "tensor([[[ 1,  2,  3,  4],\n",
            "         [ 5,  6,  7,  8]],\n",
            "\n",
            "        [[11, 12, 13, 14],\n",
            "         [15, 16, 17, 18]],\n",
            "\n",
            "        [[21, 22, 23, 24],\n",
            "         [25, 26, 27, 28]]])\n",
            "a :  torch.Size([3, 2, 4])\n",
            "tensor([[[ 1,  2],\n",
            "         [ 3,  4],\n",
            "         [ 5,  6],\n",
            "         [ 7,  8]],\n",
            "\n",
            "        [[11, 12],\n",
            "         [13, 14],\n",
            "         [15, 16],\n",
            "         [17, 18]],\n",
            "\n",
            "        [[21, 22],\n",
            "         [23, 24],\n",
            "         [25, 26],\n",
            "         [27, 28]]])\n"
          ]
        }
      ]
    },
    {
      "cell_type": "code",
      "source": [
        "a = torch.tensor( [\n",
        "    \n",
        "                        [\n",
        "                            [1, 2, 3, 4],\n",
        "                            [5, 6, 7, 8]\n",
        "                        ],\n",
        "                        [\n",
        "                            [11, 12, 13, 14],\n",
        "                            [15, 16, 17, 18]\n",
        "                        ],\n",
        "                        [\n",
        "                            [21, 22, 23, 24],\n",
        "                            [25, 26, 27, 28]\n",
        "                        ]\n",
        "])\n",
        "print(a)\n",
        "print(a[1])\n",
        "b = a.view(3,4,2) # change shape\n",
        "print(\"[before change]\")\n",
        "print(\"b :\", b)\n",
        "print(\"------------------\")\n",
        "a[1] = torch.tensor( [[51,52,53,54],\n",
        "                      [55,56,57,58]]) # < -- assign new value\n",
        "print(a)\n",
        "print(\"[after change]\")\n",
        "print(\"b :\", b)\n",
        "\n",
        "# b에 대해 작업하지 않았지만, b의 내부 data가 바뀌었다.\n",
        "# view는 shape를 바꿔서 바라만 보고 있는 것이다."
      ],
      "metadata": {
        "colab": {
          "base_uri": "https://localhost:8080/"
        },
        "id": "hgDRkHxUUIy5",
        "outputId": "b5bd0fc7-d195-45e4-8769-c053418e8cb0"
      },
      "execution_count": 20,
      "outputs": [
        {
          "output_type": "stream",
          "name": "stdout",
          "text": [
            "tensor([[[ 1,  2,  3,  4],\n",
            "         [ 5,  6,  7,  8]],\n",
            "\n",
            "        [[11, 12, 13, 14],\n",
            "         [15, 16, 17, 18]],\n",
            "\n",
            "        [[21, 22, 23, 24],\n",
            "         [25, 26, 27, 28]]])\n",
            "tensor([[11, 12, 13, 14],\n",
            "        [15, 16, 17, 18]])\n",
            "[before change]\n",
            "b : tensor([[[ 1,  2],\n",
            "         [ 3,  4],\n",
            "         [ 5,  6],\n",
            "         [ 7,  8]],\n",
            "\n",
            "        [[11, 12],\n",
            "         [13, 14],\n",
            "         [15, 16],\n",
            "         [17, 18]],\n",
            "\n",
            "        [[21, 22],\n",
            "         [23, 24],\n",
            "         [25, 26],\n",
            "         [27, 28]]])\n",
            "------------------\n",
            "tensor([[[ 1,  2,  3,  4],\n",
            "         [ 5,  6,  7,  8]],\n",
            "\n",
            "        [[51, 52, 53, 54],\n",
            "         [55, 56, 57, 58]],\n",
            "\n",
            "        [[21, 22, 23, 24],\n",
            "         [25, 26, 27, 28]]])\n",
            "[after change]\n",
            "b : tensor([[[ 1,  2],\n",
            "         [ 3,  4],\n",
            "         [ 5,  6],\n",
            "         [ 7,  8]],\n",
            "\n",
            "        [[51, 52],\n",
            "         [53, 54],\n",
            "         [55, 56],\n",
            "         [57, 58]],\n",
            "\n",
            "        [[21, 22],\n",
            "         [23, 24],\n",
            "         [25, 26],\n",
            "         [27, 28]]])\n"
          ]
        }
      ]
    },
    {
      "cell_type": "code",
      "source": [
        "print(b)"
      ],
      "metadata": {
        "colab": {
          "base_uri": "https://localhost:8080/"
        },
        "id": "LNJ8LMk0VoQ0",
        "outputId": "f803a9c2-11bd-4914-e898-dc09d5a1d9de"
      },
      "execution_count": 21,
      "outputs": [
        {
          "output_type": "stream",
          "name": "stdout",
          "text": [
            "tensor([[[ 1,  2],\n",
            "         [ 3,  4],\n",
            "         [ 5,  6],\n",
            "         [ 7,  8]],\n",
            "\n",
            "        [[51, 52],\n",
            "         [53, 54],\n",
            "         [55, 56],\n",
            "         [57, 58]],\n",
            "\n",
            "        [[21, 22],\n",
            "         [23, 24],\n",
            "         [25, 26],\n",
            "         [27, 28]]])\n"
          ]
        }
      ]
    },
    {
      "cell_type": "code",
      "source": [
        "b[1] = torch.tensor([[152,152],\n",
        "                     [153,154],\n",
        "                     [155,156],\n",
        "                     [157,158]])\n",
        "print(a)\n",
        "\n",
        "# 실제 안으로 들어가서 값을 바꾸기 때문에 a를 출력해도 바뀌는 걸 확인 가능."
      ],
      "metadata": {
        "colab": {
          "base_uri": "https://localhost:8080/"
        },
        "id": "JavlKUsfWD0z",
        "outputId": "4480fcd4-b0f2-486b-df1b-e4f03320efd3"
      },
      "execution_count": 22,
      "outputs": [
        {
          "output_type": "stream",
          "name": "stdout",
          "text": [
            "tensor([[[  1,   2,   3,   4],\n",
            "         [  5,   6,   7,   8]],\n",
            "\n",
            "        [[152, 152, 153, 154],\n",
            "         [155, 156, 157, 158]],\n",
            "\n",
            "        [[ 21,  22,  23,  24],\n",
            "         [ 25,  26,  27,  28]]])\n"
          ]
        }
      ]
    },
    {
      "cell_type": "markdown",
      "source": [
        "# Tensor Device Change\n",
        "\n",
        "Pytorch support GPU calculation.\n",
        "\n",
        "We can transfer data in CPU to GPU or vice versa.\n",
        "- CPU to GPU\n",
        "- GPU to CPU\n",
        "\n",
        "**NOTE** You need 'GPU' to run the following section\n",
        "\n",
        "google -- colab"
      ],
      "metadata": {
        "id": "L7nucfpmWW2B"
      }
    },
    {
      "cell_type": "code",
      "source": [
        "# CPU to GPU @ creation\n",
        "a = torch.tensor([1,2,3,4], device=\"cuda:0\") # 어떤 GPU memory에 이 tensor를 올릴 것인가에 대한 명시이다. 숫자는 n번째 GPU를 의미한다.\n",
        "print(a)\n",
        "print(a.device)\n",
        "b = torch.tensor([1,2,3,4], device='cpu')\n",
        "print(b)\n",
        "print(b.device)\n",
        "c = torch.tensor([1,2,3,4]) # < -- default device : cpu\n",
        "print(c)\n",
        "print(c.device)"
      ],
      "metadata": {
        "colab": {
          "base_uri": "https://localhost:8080/"
        },
        "id": "2bIpK9xFWNcw",
        "outputId": "0ed50c84-4489-4551-fcf6-7d4e5f0b94a2"
      },
      "execution_count": 23,
      "outputs": [
        {
          "output_type": "stream",
          "name": "stdout",
          "text": [
            "tensor([1, 2, 3, 4], device='cuda:0')\n",
            "cuda:0\n",
            "tensor([1, 2, 3, 4])\n",
            "cpu\n",
            "tensor([1, 2, 3, 4])\n",
            "cpu\n"
          ]
        }
      ]
    },
    {
      "cell_type": "code",
      "source": [
        "# CPU to GPU @ after creation\n",
        "a = torch.tensor([1,2,3,4])\n",
        "print(a)\n",
        "print(a.device)\n",
        "b = a.to('cuda') #. --- .to(~~~)\n",
        "print(b)\n",
        "print(b.device)\n",
        "print(\"---------try to change b---------\")\n",
        "b[3] = 14\n",
        "print(\"a :\",a)\n",
        "print(\"b :\",b)"
      ],
      "metadata": {
        "colab": {
          "base_uri": "https://localhost:8080/"
        },
        "id": "qiaEPOdTW-sE",
        "outputId": "dc0ec77a-ddbe-420a-d27f-26591ee12718"
      },
      "execution_count": 24,
      "outputs": [
        {
          "output_type": "stream",
          "name": "stdout",
          "text": [
            "tensor([1, 2, 3, 4])\n",
            "cpu\n",
            "tensor([1, 2, 3, 4], device='cuda:0')\n",
            "cuda:0\n",
            "---------try to change b---------\n",
            "a : tensor([1, 2, 3, 4])\n",
            "b : tensor([ 1,  2,  3, 14], device='cuda:0')\n"
          ]
        }
      ]
    },
    {
      "cell_type": "markdown",
      "source": [
        "# Tensor @ GPU data to CPU data\n",
        "\n",
        "We need some operations to fetch GPU data to CPU area.\n",
        "\n",
        "- GPU data to CPU\n",
        "  - torch.tensor @GPU --> torch.tensor @CPU --> python object @CPU\n",
        "  - torch.tensor @GPU --> torch.tensor @CPU --> numpy object @CPU"
      ],
      "metadata": {
        "id": "2CnGKgVXZGhb"
      }
    },
    {
      "cell_type": "code",
      "source": [
        "a = torch.tensor( [\n",
        "    \n",
        "                        [\n",
        "                            [1, 2, 3, 4],\n",
        "                            [5, 6, 7, 8]\n",
        "                        ],\n",
        "                        [\n",
        "                            [11, 12, 13, 14],\n",
        "                            [15, 16, 17, 18]\n",
        "                        ],\n",
        "                        [\n",
        "                            [21, 22, 23, 24],\n",
        "                            [25, 26, 27, 28]\n",
        "                        ]\n",
        "]).to('cuda') # <- GPU\n",
        "print(a)\n",
        "print(a.device)"
      ],
      "metadata": {
        "id": "xqXY8yjMY0Lk",
        "colab": {
          "base_uri": "https://localhost:8080/"
        },
        "outputId": "40c34dc0-f5c2-4f43-83ff-228ade4d737e"
      },
      "execution_count": 25,
      "outputs": [
        {
          "output_type": "stream",
          "name": "stdout",
          "text": [
            "tensor([[[ 1,  2,  3,  4],\n",
            "         [ 5,  6,  7,  8]],\n",
            "\n",
            "        [[11, 12, 13, 14],\n",
            "         [15, 16, 17, 18]],\n",
            "\n",
            "        [[21, 22, 23, 24],\n",
            "         [25, 26, 27, 28]]], device='cuda:0')\n",
            "cuda:0\n"
          ]
        }
      ]
    },
    {
      "cell_type": "code",
      "source": [
        "b = a.cpu() # a가 cpu level로 내려와서 나의 cpu에 저장됨.\n",
        "print(b)\n",
        "print(type(b))\n",
        "print(b.device)"
      ],
      "metadata": {
        "colab": {
          "base_uri": "https://localhost:8080/"
        },
        "id": "92frK29FhcmB",
        "outputId": "47825684-e583-40af-a7cf-33da6acfc94b"
      },
      "execution_count": 26,
      "outputs": [
        {
          "output_type": "stream",
          "name": "stdout",
          "text": [
            "tensor([[[ 1,  2,  3,  4],\n",
            "         [ 5,  6,  7,  8]],\n",
            "\n",
            "        [[11, 12, 13, 14],\n",
            "         [15, 16, 17, 18]],\n",
            "\n",
            "        [[21, 22, 23, 24],\n",
            "         [25, 26, 27, 28]]])\n",
            "<class 'torch.Tensor'>\n",
            "cpu\n"
          ]
        }
      ]
    },
    {
      "cell_type": "code",
      "source": [
        "c = b.tolist()\n",
        "print(c)\n",
        "print(type(c))"
      ],
      "metadata": {
        "colab": {
          "base_uri": "https://localhost:8080/"
        },
        "outputId": "e03b232a-1030-4b95-fcb4-0cbf563b589e",
        "id": "hEmsAdQMiZGe"
      },
      "execution_count": 27,
      "outputs": [
        {
          "output_type": "stream",
          "name": "stdout",
          "text": [
            "[[[1, 2, 3, 4], [5, 6, 7, 8]], [[11, 12, 13, 14], [15, 16, 17, 18]], [[21, 22, 23, 24], [25, 26, 27, 28]]]\n",
            "<class 'list'>\n"
          ]
        }
      ]
    },
    {
      "cell_type": "code",
      "source": [
        "c = b.numpy()\n",
        "print(c)\n",
        "print(type(c))"
      ],
      "metadata": {
        "colab": {
          "base_uri": "https://localhost:8080/"
        },
        "id": "Suz1rJ6Ohtf_",
        "outputId": "ef5fb3ab-49e5-490f-805e-ecb13d2e7af0"
      },
      "execution_count": 28,
      "outputs": [
        {
          "output_type": "stream",
          "name": "stdout",
          "text": [
            "[[[ 1  2  3  4]\n",
            "  [ 5  6  7  8]]\n",
            "\n",
            " [[11 12 13 14]\n",
            "  [15 16 17 18]]\n",
            "\n",
            " [[21 22 23 24]\n",
            "  [25 26 27 28]]]\n",
            "<class 'numpy.ndarray'>\n"
          ]
        }
      ]
    },
    {
      "cell_type": "code",
      "source": [
        "# a.numpy()\n",
        "\n",
        "# Error, numpy()라는 format은 cpu만 support하는 것이므로, GPU에 담기는 메모리를 numpy로 하면 작동이 되지 않음."
      ],
      "metadata": {
        "id": "sq52RYgIid-K"
      },
      "execution_count": 29,
      "outputs": []
    },
    {
      "cell_type": "code",
      "source": [
        "a.cpu().numpy()\n",
        "print(a)\n",
        "print(type(a.cpu().numpy()))"
      ],
      "metadata": {
        "colab": {
          "base_uri": "https://localhost:8080/"
        },
        "id": "P9_f_0sUip8P",
        "outputId": "86d07f98-ae2d-460d-acdf-5eb6a9d6a173"
      },
      "execution_count": 30,
      "outputs": [
        {
          "output_type": "stream",
          "name": "stdout",
          "text": [
            "tensor([[[ 1,  2,  3,  4],\n",
            "         [ 5,  6,  7,  8]],\n",
            "\n",
            "        [[11, 12, 13, 14],\n",
            "         [15, 16, 17, 18]],\n",
            "\n",
            "        [[21, 22, 23, 24],\n",
            "         [25, 26, 27, 28]]], device='cuda:0')\n",
            "<class 'numpy.ndarray'>\n"
          ]
        }
      ]
    },
    {
      "cell_type": "markdown",
      "source": [
        "When we want to get scalar value directly, there is item() function."
      ],
      "metadata": {
        "id": "8AAYhAmOjFIx"
      }
    },
    {
      "cell_type": "code",
      "source": [
        "a = torch.tensor([1,2,3,4], device='cuda')\n",
        "print(a)\n",
        "print(a.device)"
      ],
      "metadata": {
        "colab": {
          "base_uri": "https://localhost:8080/"
        },
        "id": "yPCS-Iini4xF",
        "outputId": "d8c52884-595b-44a5-cae8-a2133768c6b5"
      },
      "execution_count": 31,
      "outputs": [
        {
          "output_type": "stream",
          "name": "stdout",
          "text": [
            "tensor([1, 2, 3, 4], device='cuda:0')\n",
            "cuda:0\n"
          ]
        }
      ]
    },
    {
      "cell_type": "code",
      "source": [
        "# a.item() # it will cause ERROR - since item() support only scalars"
      ],
      "metadata": {
        "id": "ydCXH5fxpeef"
      },
      "execution_count": 32,
      "outputs": []
    },
    {
      "cell_type": "code",
      "source": [
        "a = torch.tensor([1], device='cuda')\n",
        "print(a)\n",
        "print(a.device)\n",
        "print(\"-----\")\n",
        "b = a.item() # scalar 값일 때 가능.\n",
        "print(b)\n",
        "print(type(b))"
      ],
      "metadata": {
        "colab": {
          "base_uri": "https://localhost:8080/"
        },
        "id": "je-ZjICepleV",
        "outputId": "18d03f7e-0a0e-4824-96f1-3b1e18011091"
      },
      "execution_count": 33,
      "outputs": [
        {
          "output_type": "stream",
          "name": "stdout",
          "text": [
            "tensor([1], device='cuda:0')\n",
            "cuda:0\n",
            "-----\n",
            "1\n",
            "<class 'int'>\n"
          ]
        }
      ]
    },
    {
      "cell_type": "code",
      "source": [
        "a = torch.tensor(101.3434, device='cuda')\n",
        "print(a)\n",
        "print(a.device)\n",
        "print('-----')\n",
        "b = a.item()\n",
        "print(b)\n",
        "print(type(b))"
      ],
      "metadata": {
        "colab": {
          "base_uri": "https://localhost:8080/"
        },
        "id": "ZMF07EvJrSPj",
        "outputId": "31502801-e8cc-4439-967f-40f8e2371ad1"
      },
      "execution_count": 34,
      "outputs": [
        {
          "output_type": "stream",
          "name": "stdout",
          "text": [
            "tensor(101.3434, device='cuda:0')\n",
            "cuda:0\n",
            "-----\n",
            "101.34339904785156\n",
            "<class 'float'>\n"
          ]
        }
      ]
    },
    {
      "cell_type": "markdown",
      "source": [
        "# 1 to N Operations"
      ],
      "metadata": {
        "id": "WOeKJDxqrlqN"
      }
    },
    {
      "cell_type": "code",
      "source": [
        "a = torch.tensor( [\n",
        "    \n",
        "                        [\n",
        "                            [1, 2, 3, 4],\n",
        "                            [5, 6, 7, 8]\n",
        "                        ],\n",
        "                        [\n",
        "                            [11, 12, 13, 14],\n",
        "                            [15, 16, 17, 18]\n",
        "                        ],\n",
        "                        [\n",
        "                            [21, 22, 23, 24],\n",
        "                            [25, 26, 27, 28]\n",
        "                        ]\n",
        "])\n",
        "print(a)\n",
        "print(a.shape)"
      ],
      "metadata": {
        "colab": {
          "base_uri": "https://localhost:8080/"
        },
        "id": "ovzuGYnprgR0",
        "outputId": "b60b2206-cbdb-4ae6-ba18-9b0ac31155a8"
      },
      "execution_count": 35,
      "outputs": [
        {
          "output_type": "stream",
          "name": "stdout",
          "text": [
            "tensor([[[ 1,  2,  3,  4],\n",
            "         [ 5,  6,  7,  8]],\n",
            "\n",
            "        [[11, 12, 13, 14],\n",
            "         [15, 16, 17, 18]],\n",
            "\n",
            "        [[21, 22, 23, 24],\n",
            "         [25, 26, 27, 28]]])\n",
            "torch.Size([3, 2, 4])\n"
          ]
        }
      ]
    },
    {
      "cell_type": "markdown",
      "source": [
        "# Let's split the data with 3 parts"
      ],
      "metadata": {
        "id": "tEm6j6k6rutc"
      }
    },
    {
      "cell_type": "code",
      "source": [
        "a_l_tensors = torch.chunk(a, chunks=3, dim=0)\n",
        "print(a_l_tensors)\n",
        "print(a_l_tensors[0])\n",
        "print(\"-----\")\n",
        "print(a_l_tensors[0].shape)\n",
        "print(a_l_tensors[1].shape)\n",
        "print(a_l_tensors[2].shape)"
      ],
      "metadata": {
        "colab": {
          "base_uri": "https://localhost:8080/"
        },
        "id": "F1k-TLm3rpiY",
        "outputId": "683f1ff7-ac0a-4a2c-963b-8f7600d3fb35"
      },
      "execution_count": 36,
      "outputs": [
        {
          "output_type": "stream",
          "name": "stdout",
          "text": [
            "(tensor([[[1, 2, 3, 4],\n",
            "         [5, 6, 7, 8]]]), tensor([[[11, 12, 13, 14],\n",
            "         [15, 16, 17, 18]]]), tensor([[[21, 22, 23, 24],\n",
            "         [25, 26, 27, 28]]]))\n",
            "tensor([[[1, 2, 3, 4],\n",
            "         [5, 6, 7, 8]]])\n",
            "-----\n",
            "torch.Size([1, 2, 4])\n",
            "torch.Size([1, 2, 4])\n",
            "torch.Size([1, 2, 4])\n"
          ]
        }
      ]
    },
    {
      "cell_type": "code",
      "source": [
        "print(torch.chunk(a, chunks=4, dim=-1))\n",
        "print(torch.chunk(a, chunks=4, dim=-1)[1])\n",
        "print(\"-----\")\n",
        "print(torch.chunk(a, chunks=4, dim=-1)[0].shape)\n",
        "print(torch.chunk(a, chunks=4, dim=-1)[1].shape)\n",
        "print(torch.chunk(a, chunks=4, dim=-1)[2].shape)\n",
        "print(torch.chunk(a, chunks=4, dim=-1)[3].shape)"
      ],
      "metadata": {
        "colab": {
          "base_uri": "https://localhost:8080/"
        },
        "id": "7O0UNQ1osEGb",
        "outputId": "170c9d52-8a43-43ca-c47a-dab902a6dc13"
      },
      "execution_count": 40,
      "outputs": [
        {
          "output_type": "stream",
          "name": "stdout",
          "text": [
            "(tensor([[[ 1],\n",
            "         [ 5]],\n",
            "\n",
            "        [[11],\n",
            "         [15]],\n",
            "\n",
            "        [[21],\n",
            "         [25]]]), tensor([[[ 2],\n",
            "         [ 6]],\n",
            "\n",
            "        [[12],\n",
            "         [16]],\n",
            "\n",
            "        [[22],\n",
            "         [26]]]), tensor([[[ 3],\n",
            "         [ 7]],\n",
            "\n",
            "        [[13],\n",
            "         [17]],\n",
            "\n",
            "        [[23],\n",
            "         [27]]]), tensor([[[ 4],\n",
            "         [ 8]],\n",
            "\n",
            "        [[14],\n",
            "         [18]],\n",
            "\n",
            "        [[24],\n",
            "         [28]]]))\n",
            "tensor([[[ 2],\n",
            "         [ 6]],\n",
            "\n",
            "        [[12],\n",
            "         [16]],\n",
            "\n",
            "        [[22],\n",
            "         [26]]])\n",
            "-----\n",
            "torch.Size([3, 2, 1])\n",
            "torch.Size([3, 2, 1])\n",
            "torch.Size([3, 2, 1])\n",
            "torch.Size([3, 2, 1])\n"
          ]
        }
      ]
    },
    {
      "cell_type": "markdown",
      "source": [
        "# N to 1 Operations"
      ],
      "metadata": {
        "id": "QNxMFuwGdSKU"
      }
    },
    {
      "cell_type": "code",
      "source": [
        "# by cat\n",
        "\n",
        "print(a_l_tensors)\n",
        "print(a_l_tensors[0].shape)\n",
        "print(a_l_tensors[1].shape)\n",
        "print(a_l_tensors[2].shape)"
      ],
      "metadata": {
        "colab": {
          "base_uri": "https://localhost:8080/"
        },
        "id": "khW8p0zFcpsF",
        "outputId": "8b9b2aea-d2d7-4189-9612-7a2d376e9918"
      },
      "execution_count": 42,
      "outputs": [
        {
          "output_type": "stream",
          "name": "stdout",
          "text": [
            "(tensor([[[1, 2, 3, 4],\n",
            "         [5, 6, 7, 8]]]), tensor([[[11, 12, 13, 14],\n",
            "         [15, 16, 17, 18]]]), tensor([[[21, 22, 23, 24],\n",
            "         [25, 26, 27, 28]]]))\n",
            "torch.Size([1, 2, 4])\n",
            "torch.Size([1, 2, 4])\n",
            "torch.Size([1, 2, 4])\n"
          ]
        }
      ]
    },
    {
      "cell_type": "code",
      "source": [
        "b = torch.cat(a_l_tensors)\n",
        "print(b)\n",
        "print(b.shape)"
      ],
      "metadata": {
        "colab": {
          "base_uri": "https://localhost:8080/"
        },
        "id": "eReSiduqdY7M",
        "outputId": "5ca230ed-8ed9-405f-e5c3-f5648566a67a"
      },
      "execution_count": 45,
      "outputs": [
        {
          "output_type": "stream",
          "name": "stdout",
          "text": [
            "tensor([[[ 1,  2,  3,  4],\n",
            "         [ 5,  6,  7,  8]],\n",
            "\n",
            "        [[11, 12, 13, 14],\n",
            "         [15, 16, 17, 18]],\n",
            "\n",
            "        [[21, 22, 23, 24],\n",
            "         [25, 26, 27, 28]]])\n",
            "torch.Size([3, 2, 4])\n"
          ]
        }
      ]
    },
    {
      "cell_type": "code",
      "source": [
        "# but you can concatenate in different ways\n",
        "c = torch.cat(a_l_tensors, dim=1)\n",
        "print(c)\n",
        "print(c.shape)"
      ],
      "metadata": {
        "colab": {
          "base_uri": "https://localhost:8080/"
        },
        "id": "1tYDpBp-dfzY",
        "outputId": "fc9048e4-a5ef-4502-9421-a52b3d57f8ff"
      },
      "execution_count": 46,
      "outputs": [
        {
          "output_type": "stream",
          "name": "stdout",
          "text": [
            "tensor([[[ 1,  2,  3,  4],\n",
            "         [ 5,  6,  7,  8],\n",
            "         [11, 12, 13, 14],\n",
            "         [15, 16, 17, 18],\n",
            "         [21, 22, 23, 24],\n",
            "         [25, 26, 27, 28]]])\n",
            "torch.Size([1, 6, 4])\n"
          ]
        }
      ]
    },
    {
      "cell_type": "code",
      "source": [
        "# but you can concatenate in different ways\n",
        "c = torch.cat(a_l_tensors, dim=-1)\n",
        "print(c)\n",
        "print(c.shape)"
      ],
      "metadata": {
        "colab": {
          "base_uri": "https://localhost:8080/"
        },
        "id": "oZWAMfYgd-dK",
        "outputId": "a65bb0f6-3c34-4f56-bce5-a40f0e3ab570"
      },
      "execution_count": 47,
      "outputs": [
        {
          "output_type": "stream",
          "name": "stdout",
          "text": [
            "tensor([[[ 1,  2,  3,  4, 11, 12, 13, 14, 21, 22, 23, 24],\n",
            "         [ 5,  6,  7,  8, 15, 16, 17, 18, 25, 26, 27, 28]]])\n",
            "torch.Size([1, 2, 12])\n"
          ]
        }
      ]
    },
    {
      "cell_type": "markdown",
      "source": [
        "# Torch.STACK\n",
        "\n",
        "- Concatenates a sequence of tensors along a new dimension.\n",
        "- All tensors need to be of the same size."
      ],
      "metadata": {
        "id": "9yalHjPneGtw"
      }
    },
    {
      "cell_type": "code",
      "source": [
        "print(\"original shape of a\", a.shape)\n",
        "print(a_l_tensors)\n",
        "# tuple의 모음\n",
        "print(\"-----\")\n",
        "e = torch.stack(a_l_tensors)\n",
        "print(e)\n",
        "print(e.shape)"
      ],
      "metadata": {
        "colab": {
          "base_uri": "https://localhost:8080/"
        },
        "id": "WndTZlUjeEht",
        "outputId": "120390b3-8821-4ebd-d3fa-08f88ca0e1c0"
      },
      "execution_count": 48,
      "outputs": [
        {
          "output_type": "stream",
          "name": "stdout",
          "text": [
            "original shape of a torch.Size([3, 2, 4])\n",
            "(tensor([[[1, 2, 3, 4],\n",
            "         [5, 6, 7, 8]]]), tensor([[[11, 12, 13, 14],\n",
            "         [15, 16, 17, 18]]]), tensor([[[21, 22, 23, 24],\n",
            "         [25, 26, 27, 28]]]))\n",
            "-----\n",
            "tensor([[[[ 1,  2,  3,  4],\n",
            "          [ 5,  6,  7,  8]]],\n",
            "\n",
            "\n",
            "        [[[11, 12, 13, 14],\n",
            "          [15, 16, 17, 18]]],\n",
            "\n",
            "\n",
            "        [[[21, 22, 23, 24],\n",
            "          [25, 26, 27, 28]]]])\n",
            "torch.Size([3, 1, 2, 4])\n"
          ]
        }
      ]
    },
    {
      "cell_type": "code",
      "source": [
        "a = torch.tensor( [\n",
        "    \n",
        "                        [\n",
        "                            [1, 2, 3, 4],\n",
        "                            [5, 6, 7, 8]\n",
        "                        ],\n",
        "                        [\n",
        "                            [11, 12, 13, 14],\n",
        "                            [15, 16, 17, 18]\n",
        "                        ],\n",
        "                        [\n",
        "                            [21, 22, 23, 24],\n",
        "                            [25, 26, 27, 28]\n",
        "                        ]\n",
        "])\n",
        "print(a)\n",
        "print(a.shape)"
      ],
      "metadata": {
        "colab": {
          "base_uri": "https://localhost:8080/"
        },
        "id": "LHfjHZnUegYw",
        "outputId": "62ab8b48-7d92-434b-ae43-8d6bc48bdfb1"
      },
      "execution_count": 49,
      "outputs": [
        {
          "output_type": "stream",
          "name": "stdout",
          "text": [
            "tensor([[[ 1,  2,  3,  4],\n",
            "         [ 5,  6,  7,  8]],\n",
            "\n",
            "        [[11, 12, 13, 14],\n",
            "         [15, 16, 17, 18]],\n",
            "\n",
            "        [[21, 22, 23, 24],\n",
            "         [25, 26, 27, 28]]])\n",
            "torch.Size([3, 2, 4])\n"
          ]
        }
      ]
    },
    {
      "cell_type": "code",
      "source": [
        "print(a.shape)\n",
        "b = torch.transpose(a, 0, 1)\n",
        "print(b.shape)\n",
        "print(b)"
      ],
      "metadata": {
        "colab": {
          "base_uri": "https://localhost:8080/"
        },
        "id": "PxYWavv9gCsh",
        "outputId": "41e5f88a-7f6c-4847-d4a5-96e440fd9c11"
      },
      "execution_count": 50,
      "outputs": [
        {
          "output_type": "stream",
          "name": "stdout",
          "text": [
            "torch.Size([3, 2, 4])\n",
            "torch.Size([2, 3, 4])\n",
            "tensor([[[ 1,  2,  3,  4],\n",
            "         [11, 12, 13, 14],\n",
            "         [21, 22, 23, 24]],\n",
            "\n",
            "        [[ 5,  6,  7,  8],\n",
            "         [15, 16, 17, 18],\n",
            "         [25, 26, 27, 28]]])\n"
          ]
        }
      ]
    },
    {
      "cell_type": "code",
      "source": [
        "print(a.shape)\n",
        "c = torch.transpose(a, 0, -1)\n",
        "print(c.shape)\n",
        "print(c)"
      ],
      "metadata": {
        "colab": {
          "base_uri": "https://localhost:8080/"
        },
        "id": "4LzJ4_nHgKBU",
        "outputId": "9d9b1601-286c-4eaa-f3c0-1e54c22933f0"
      },
      "execution_count": 51,
      "outputs": [
        {
          "output_type": "stream",
          "name": "stdout",
          "text": [
            "torch.Size([3, 2, 4])\n",
            "torch.Size([4, 2, 3])\n",
            "tensor([[[ 1, 11, 21],\n",
            "         [ 5, 15, 25]],\n",
            "\n",
            "        [[ 2, 12, 22],\n",
            "         [ 6, 16, 26]],\n",
            "\n",
            "        [[ 3, 13, 23],\n",
            "         [ 7, 17, 27]],\n",
            "\n",
            "        [[ 4, 14, 24],\n",
            "         [ 8, 18, 28]]])\n"
          ]
        }
      ]
    },
    {
      "cell_type": "code",
      "source": [
        "print(\"original shape of a\", a.shape)\n",
        "d = a.permute(2,0,1)\n",
        "print(d.shape)\n",
        "print(d)"
      ],
      "metadata": {
        "colab": {
          "base_uri": "https://localhost:8080/"
        },
        "id": "O1iDCaa6gTAG",
        "outputId": "51cd5b48-afa4-48d7-db81-c04439eb6a88"
      },
      "execution_count": 52,
      "outputs": [
        {
          "output_type": "stream",
          "name": "stdout",
          "text": [
            "original shape of a torch.Size([3, 2, 4])\n",
            "torch.Size([4, 3, 2])\n",
            "tensor([[[ 1,  5],\n",
            "         [11, 15],\n",
            "         [21, 25]],\n",
            "\n",
            "        [[ 2,  6],\n",
            "         [12, 16],\n",
            "         [22, 26]],\n",
            "\n",
            "        [[ 3,  7],\n",
            "         [13, 17],\n",
            "         [23, 27]],\n",
            "\n",
            "        [[ 4,  8],\n",
            "         [14, 18],\n",
            "         [24, 28]]])\n"
          ]
        }
      ]
    },
    {
      "cell_type": "markdown",
      "source": [
        "# Squeeze"
      ],
      "metadata": {
        "id": "F6snQ0O8iCNk"
      }
    },
    {
      "cell_type": "code",
      "source": [
        "x = torch.zeros(2,1,2,1,2)\n",
        "print(x.shape)"
      ],
      "metadata": {
        "colab": {
          "base_uri": "https://localhost:8080/"
        },
        "id": "gxWu8JyjhdMV",
        "outputId": "726091e7-fb00-455a-c4b1-a443fd9b72e8"
      },
      "execution_count": 53,
      "outputs": [
        {
          "output_type": "stream",
          "name": "stdout",
          "text": [
            "torch.Size([2, 1, 2, 1, 2])\n"
          ]
        }
      ]
    },
    {
      "cell_type": "code",
      "source": [
        "y = torch.squeeze(x)\n",
        "print(y.shape) # <-- you will seee 1 is removed"
      ],
      "metadata": {
        "colab": {
          "base_uri": "https://localhost:8080/"
        },
        "id": "Wc4UECo7iNG0",
        "outputId": "49e9de5a-79b9-46fe-fdca-7036bb1c5c4c"
      },
      "execution_count": 55,
      "outputs": [
        {
          "output_type": "stream",
          "name": "stdout",
          "text": [
            "torch.Size([2, 2, 2])\n"
          ]
        }
      ]
    },
    {
      "cell_type": "code",
      "source": [
        "# or you can specify the squeezing dimension\n",
        "y = torch.squeeze(x, 1)\n",
        "print(y.shape) # < - you will see dim=1 is removed"
      ],
      "metadata": {
        "colab": {
          "base_uri": "https://localhost:8080/"
        },
        "id": "4vhO7vzgiTzL",
        "outputId": "559dc667-0d46-41b6-8899-345c4fb98233"
      },
      "execution_count": 58,
      "outputs": [
        {
          "output_type": "stream",
          "name": "stdout",
          "text": [
            "torch.Size([2, 2, 1, 2])\n"
          ]
        }
      ]
    },
    {
      "cell_type": "markdown",
      "source": [
        "# Unsqueeze"
      ],
      "metadata": {
        "id": "DwNPFhcUjwT7"
      }
    },
    {
      "cell_type": "code",
      "source": [
        "print(y.shape)\n",
        "z = y.unsqueeze(dim=1)\n",
        "print(z.shape)"
      ],
      "metadata": {
        "colab": {
          "base_uri": "https://localhost:8080/"
        },
        "id": "13kUaAuFjELb",
        "outputId": "d1bc69ab-411b-4d65-84ce-bbb722bc0dd8"
      },
      "execution_count": 60,
      "outputs": [
        {
          "output_type": "stream",
          "name": "stdout",
          "text": [
            "torch.Size([2, 2, 1, 2])\n",
            "torch.Size([2, 1, 2, 1, 2])\n"
          ]
        }
      ]
    },
    {
      "cell_type": "markdown",
      "source": [
        "# Tensor indexing"
      ],
      "metadata": {
        "id": "m3mTdgiXkGqV"
      }
    },
    {
      "cell_type": "code",
      "source": [
        "x = [ [0,1,2,3,4,5,6,7,8,9,],\n",
        "     [10,11,12,13,14,15,16,17,18,19],\n",
        "     [20,21,22,23,24,25,26,27,28,29],\n",
        "     [30,31,32,33,34,35,36,37,38,39]]\n",
        "x = torch.tensor(x)\n",
        "x"
      ],
      "metadata": {
        "colab": {
          "base_uri": "https://localhost:8080/"
        },
        "id": "yIYOu_r4jvEf",
        "outputId": "a7874343-054c-43ea-bf4e-9058b53046f2"
      },
      "execution_count": 62,
      "outputs": [
        {
          "output_type": "execute_result",
          "data": {
            "text/plain": [
              "tensor([[ 0,  1,  2,  3,  4,  5,  6,  7,  8,  9],\n",
              "        [10, 11, 12, 13, 14, 15, 16, 17, 18, 19],\n",
              "        [20, 21, 22, 23, 24, 25, 26, 27, 28, 29],\n",
              "        [30, 31, 32, 33, 34, 35, 36, 37, 38, 39]])"
            ]
          },
          "metadata": {},
          "execution_count": 62
        }
      ]
    },
    {
      "cell_type": "code",
      "source": [
        "x[:,3]"
      ],
      "metadata": {
        "colab": {
          "base_uri": "https://localhost:8080/"
        },
        "id": "1JUu0GApkXAu",
        "outputId": "9ea8ddf2-4291-457f-b9d1-fff205f3d55d"
      },
      "execution_count": 63,
      "outputs": [
        {
          "output_type": "execute_result",
          "data": {
            "text/plain": [
              "tensor([ 3, 13, 23, 33])"
            ]
          },
          "metadata": {},
          "execution_count": 63
        }
      ]
    },
    {
      "cell_type": "code",
      "source": [
        "x[3,:]"
      ],
      "metadata": {
        "colab": {
          "base_uri": "https://localhost:8080/"
        },
        "id": "bb1m-E3Ekp7q",
        "outputId": "49eb0e13-aad4-4908-f1a8-eddfe872277e"
      },
      "execution_count": 64,
      "outputs": [
        {
          "output_type": "execute_result",
          "data": {
            "text/plain": [
              "tensor([30, 31, 32, 33, 34, 35, 36, 37, 38, 39])"
            ]
          },
          "metadata": {},
          "execution_count": 64
        }
      ]
    },
    {
      "cell_type": "code",
      "source": [
        "x[:,2:5]"
      ],
      "metadata": {
        "colab": {
          "base_uri": "https://localhost:8080/"
        },
        "id": "0y7i1BiBkrc7",
        "outputId": "17ee4d64-cb0c-4055-8d96-1d6670c92cf2"
      },
      "execution_count": 65,
      "outputs": [
        {
          "output_type": "execute_result",
          "data": {
            "text/plain": [
              "tensor([[ 2,  3,  4],\n",
              "        [12, 13, 14],\n",
              "        [22, 23, 24],\n",
              "        [32, 33, 34]])"
            ]
          },
          "metadata": {},
          "execution_count": 65
        }
      ]
    },
    {
      "cell_type": "code",
      "source": [
        "# -1\n",
        "\n",
        "x[:,-1]"
      ],
      "metadata": {
        "colab": {
          "base_uri": "https://localhost:8080/"
        },
        "id": "1l_GI5LykxpM",
        "outputId": "b54e4601-63da-42b4-c0fe-59e497b89bed"
      },
      "execution_count": 66,
      "outputs": [
        {
          "output_type": "execute_result",
          "data": {
            "text/plain": [
              "tensor([ 9, 19, 29, 39])"
            ]
          },
          "metadata": {},
          "execution_count": 66
        }
      ]
    },
    {
      "cell_type": "code",
      "source": [
        "x[-1,:]"
      ],
      "metadata": {
        "colab": {
          "base_uri": "https://localhost:8080/"
        },
        "id": "nW_k9VDAk5D9",
        "outputId": "7229daae-f56b-4a59-c182-2d626180bfa7"
      },
      "execution_count": 67,
      "outputs": [
        {
          "output_type": "execute_result",
          "data": {
            "text/plain": [
              "tensor([30, 31, 32, 33, 34, 35, 36, 37, 38, 39])"
            ]
          },
          "metadata": {},
          "execution_count": 67
        }
      ]
    },
    {
      "cell_type": "code",
      "source": [
        "# Somtimes, you can just index the element - what you want"
      ],
      "metadata": {
        "id": "KptCLJwbk6-2"
      },
      "execution_count": 68,
      "outputs": []
    },
    {
      "cell_type": "code",
      "source": [
        "x = [ [0,1,2,3,4,5,6,7,8,9,],\n",
        "     [10,11,12,13,14,15,16,17,18,19],\n",
        "     [20,21,22,23,24,25,26,27,28,29],\n",
        "     [30,31,32,33,34,35,36,37,38,39]]\n",
        "x = torch.tensor(x)\n",
        "print(x.shape)\n",
        "indices = torch.LongTensor([3,7,1,4])\n",
        "print(x)\n",
        "print(\"---\")\n",
        "x[:,indices]"
      ],
      "metadata": {
        "colab": {
          "base_uri": "https://localhost:8080/"
        },
        "id": "q5Fjmqo-lAIL",
        "outputId": "4481950d-78c6-4fa2-f09b-ef4d3bdc6252"
      },
      "execution_count": 70,
      "outputs": [
        {
          "output_type": "stream",
          "name": "stdout",
          "text": [
            "torch.Size([4, 10])\n",
            "tensor([[ 0,  1,  2,  3,  4,  5,  6,  7,  8,  9],\n",
            "        [10, 11, 12, 13, 14, 15, 16, 17, 18, 19],\n",
            "        [20, 21, 22, 23, 24, 25, 26, 27, 28, 29],\n",
            "        [30, 31, 32, 33, 34, 35, 36, 37, 38, 39]])\n",
            "---\n"
          ]
        },
        {
          "output_type": "execute_result",
          "data": {
            "text/plain": [
              "tensor([[ 3,  7,  1,  4],\n",
              "        [13, 17, 11, 14],\n",
              "        [23, 27, 21, 24],\n",
              "        [33, 37, 31, 34]])"
            ]
          },
          "metadata": {},
          "execution_count": 70
        }
      ]
    },
    {
      "cell_type": "markdown",
      "source": [
        "# Reduce Operations\n",
        "\n",
        "- min, max, mean\n",
        "- argmax, argmin"
      ],
      "metadata": {
        "id": "hKNC6vfNlnPT"
      }
    },
    {
      "cell_type": "code",
      "source": [
        "a = torch.tensor( [\n",
        "    \n",
        "                        [\n",
        "                            [1, 2, 3, 4],\n",
        "                            [5, 6, 7, 8]\n",
        "                        ],\n",
        "                        [\n",
        "                            [11, 12, 13, 14],\n",
        "                            [15, 16, 17, 18]\n",
        "                        ],\n",
        "                        [\n",
        "                            [21, 22, 23, 24],\n",
        "                            [25, 26, 27, 28]\n",
        "                        ]\n",
        "])\n",
        "print(a)\n",
        "print(a.shape)"
      ],
      "metadata": {
        "colab": {
          "base_uri": "https://localhost:8080/"
        },
        "id": "cj8w4gKblKNd",
        "outputId": "7662aaee-bdca-47ec-d125-658fea03c94c"
      },
      "execution_count": 71,
      "outputs": [
        {
          "output_type": "stream",
          "name": "stdout",
          "text": [
            "tensor([[[ 1,  2,  3,  4],\n",
            "         [ 5,  6,  7,  8]],\n",
            "\n",
            "        [[11, 12, 13, 14],\n",
            "         [15, 16, 17, 18]],\n",
            "\n",
            "        [[21, 22, 23, 24],\n",
            "         [25, 26, 27, 28]]])\n",
            "torch.Size([3, 2, 4])\n"
          ]
        }
      ]
    },
    {
      "cell_type": "code",
      "source": [
        "torch.max(a)"
      ],
      "metadata": {
        "colab": {
          "base_uri": "https://localhost:8080/"
        },
        "id": "JlT9k0v6lw3e",
        "outputId": "1541cf59-73c2-40a9-a982-219e9f738af6"
      },
      "execution_count": 72,
      "outputs": [
        {
          "output_type": "execute_result",
          "data": {
            "text/plain": [
              "tensor(28)"
            ]
          },
          "metadata": {},
          "execution_count": 72
        }
      ]
    },
    {
      "cell_type": "code",
      "source": [
        "torch.max(a, dim=2)"
      ],
      "metadata": {
        "colab": {
          "base_uri": "https://localhost:8080/"
        },
        "id": "szbanQ7nlyt_",
        "outputId": "012ba326-20e2-4bcf-a1ad-5ed5b09cd4b3"
      },
      "execution_count": 73,
      "outputs": [
        {
          "output_type": "execute_result",
          "data": {
            "text/plain": [
              "torch.return_types.max(\n",
              "values=tensor([[ 4,  8],\n",
              "        [14, 18],\n",
              "        [24, 28]]),\n",
              "indices=tensor([[3, 3],\n",
              "        [3, 3],\n",
              "        [3, 3]]))"
            ]
          },
          "metadata": {},
          "execution_count": 73
        }
      ]
    },
    {
      "cell_type": "code",
      "source": [
        "m = torch.max(a, dim=1)\n",
        "print(m) # note that .max() return tuple\n",
        "print(\"shpae : \", m.values.shape)"
      ],
      "metadata": {
        "colab": {
          "base_uri": "https://localhost:8080/"
        },
        "id": "mliuTpPyl1L1",
        "outputId": "c776df6d-da44-4c58-d46a-d5f4605a6882"
      },
      "execution_count": 74,
      "outputs": [
        {
          "output_type": "stream",
          "name": "stdout",
          "text": [
            "torch.return_types.max(\n",
            "values=tensor([[ 5,  6,  7,  8],\n",
            "        [15, 16, 17, 18],\n",
            "        [25, 26, 27, 28]]),\n",
            "indices=tensor([[1, 1, 1, 1],\n",
            "        [1, 1, 1, 1],\n",
            "        [1, 1, 1, 1]]))\n",
            "shpae :  torch.Size([3, 4])\n"
          ]
        }
      ]
    },
    {
      "cell_type": "markdown",
      "source": [
        "argmax and argmin get indices of max or min directly"
      ],
      "metadata": {
        "id": "_N5rvxXlmkcL"
      }
    },
    {
      "cell_type": "code",
      "source": [
        "torch.argmax(a, dim=2)"
      ],
      "metadata": {
        "colab": {
          "base_uri": "https://localhost:8080/"
        },
        "id": "bt84oFCgmQZ-",
        "outputId": "40b48aa6-a520-45a6-8138-cb99f2d4e940"
      },
      "execution_count": 75,
      "outputs": [
        {
          "output_type": "execute_result",
          "data": {
            "text/plain": [
              "tensor([[3, 3],\n",
              "        [3, 3],\n",
              "        [3, 3]])"
            ]
          },
          "metadata": {},
          "execution_count": 75
        }
      ]
    }
  ]
}